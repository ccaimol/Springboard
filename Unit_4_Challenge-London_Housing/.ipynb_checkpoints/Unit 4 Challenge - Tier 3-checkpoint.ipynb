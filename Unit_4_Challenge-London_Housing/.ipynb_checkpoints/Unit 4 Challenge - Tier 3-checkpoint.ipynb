{
 "cells": [
  {
   "cell_type": "markdown",
   "metadata": {
    "colab_type": "text",
    "id": "Tia3MP1SJpgj"
   },
   "source": [
    "# Springboard Data Science Career Track Unit 4 Challenge - Tier 3 Complete\n",
    "\n",
    "## Objectives\n",
    "Hey! Great job getting through those challenging DataCamp courses. You're learning a lot in a short span of time. \n",
    "\n",
    "In this notebook, you're going to apply the skills you've been learning, bridging the gap between the controlled environment of DataCamp and the *slightly* messier work that data scientists do with actual datasets!\n",
    "\n",
    "Here’s the mystery we’re going to solve: ***which boroughs of London have seen the greatest increase in housing prices, on average, over the last two decades?***\n",
    "\n",
    "\n",
    "A borough is just a fancy word for district. You may be familiar with the five boroughs of New York… well, there are 32 boroughs within Greater London [(here's some info for the curious)](https://en.wikipedia.org/wiki/London_boroughs). Some of them are more desirable areas to live in, and the data will reflect that with a greater rise in housing prices.\n",
    "\n",
    "***This is the Tier 3 notebook, which means it's not filled in at all: we'll just give you the skeleton of a project, the brief and the data. It's up to you to play around with it and see what you can find out! Good luck! If you struggle, feel free to look at easier tiers for help; but try to dip in and out of them, as the more independent work you do, the better it is for your learning!***\n",
    "\n",
    "This challenge will make use of only what you learned in the following DataCamp courses: \n",
    "- Prework courses (Introduction to Python for Data Science, Intermediate Python for Data Science)\n",
    "- Data Types for Data Science\n",
    "- Python Data Science Toolbox (Part One) \n",
    "- pandas Foundations\n",
    "- Manipulating DataFrames with pandas\n",
    "- Merging DataFrames with pandas\n",
    "\n",
    "Of the tools, techniques and concepts in the above DataCamp courses, this challenge should require the application of the following: \n",
    "- **pandas**\n",
    "    - **data ingestion and inspection** (pandas Foundations, Module One) \n",
    "    - **exploratory data analysis** (pandas Foundations, Module Two)\n",
    "    - **tidying and cleaning** (Manipulating DataFrames with pandas, Module Three) \n",
    "    - **transforming DataFrames** (Manipulating DataFrames with pandas, Module One)\n",
    "    - **subsetting DataFrames with lists** (Manipulating DataFrames with pandas, Module One) \n",
    "    - **filtering DataFrames** (Manipulating DataFrames with pandas, Module One) \n",
    "    - **grouping data** (Manipulating DataFrames with pandas, Module Four) \n",
    "    - **melting data** (Manipulating DataFrames with pandas, Module Three) \n",
    "    - **advanced indexing** (Manipulating DataFrames with pandas, Module Four) \n",
    "- **matplotlib** (Intermediate Python for Data Science, Module One)\n",
    "- **fundamental data types** (Data Types for Data Science, Module One) \n",
    "- **dictionaries** (Intermediate Python for Data Science, Module Two)\n",
    "- **handling dates and times** (Data Types for Data Science, Module Four)\n",
    "- **function definition** (Python Data Science Toolbox - Part One, Module One)\n",
    "- **default arguments, variable length, and scope** (Python Data Science Toolbox - Part One, Module Two) \n",
    "- **lambda functions and error handling** (Python Data Science Toolbox - Part One, Module Four) "
   ]
  },
  {
   "cell_type": "markdown",
   "metadata": {
    "colab_type": "text",
    "id": "Ipgd2nV8Jpgl"
   },
   "source": [
    "## The Data Science Pipeline\n",
    "\n",
    "This is Tier Three, so we'll get you started. But after that, it's all in your hands! When you feel done with your investigations, look back over what you've accomplished, and prepare a quick presentation of your findings for the next mentor meeting. \n",
    "\n",
    "Data Science is magical. In this case study, you'll get to apply some complex machine learning algorithms. But as  [David Spiegelhalter](https://www.youtube.com/watch?v=oUs1uvsz0Ok) reminds us, there is no substitute for simply **taking a really, really good look at the data.** Sometimes, this is all we need to answer our question.\n",
    "\n",
    "Data Science projects generally adhere to the four stages of Data Science Pipeline:\n",
    "1. Sourcing and loading \n",
    "2. Cleaning, transforming, and visualizing \n",
    "3. Modeling \n",
    "4. Evaluating and concluding \n"
   ]
  },
  {
   "cell_type": "markdown",
   "metadata": {
    "colab_type": "text",
    "id": "zswDqbefJpgm"
   },
   "source": [
    "### 1. Sourcing and Loading \n",
    "\n",
    "Any Data Science project kicks off by importing  ***pandas***. The documentation of this wonderful library can be found [here](https://pandas.pydata.org/). As you've seen, pandas is conveniently connected to the [Numpy](http://www.numpy.org/) and [Matplotlib](https://matplotlib.org/) libraries. \n",
    "\n",
    "***Hint:*** This part of the data science pipeline will test those skills you acquired in the pandas Foundations course, Module One. "
   ]
  },
  {
   "cell_type": "markdown",
   "metadata": {
    "colab_type": "text",
    "id": "aEau5nEvJpgm"
   },
   "source": [
    "#### 1.1. Importing Libraries"
   ]
  },
  {
   "cell_type": "code",
   "execution_count": 1,
   "metadata": {
    "colab": {},
    "colab_type": "code",
    "id": "7Bt_Q_oPJpgn"
   },
   "outputs": [],
   "source": [
    "# Let's import the pandas, numpy libraries as pd, and np respectively. \n",
    "import pandas as pd\n",
    "import numpy as np\n",
    "\n",
    "# Load the pyplot collection of functions from matplotlib, as plt \n",
    "from matplotlib import pyplot as plt"
   ]
  },
  {
   "cell_type": "markdown",
   "metadata": {
    "colab_type": "text",
    "id": "koUrawxsJpgq"
   },
   "source": [
    "#### 1.2.  Loading the data\n",
    "Your data comes from the [London Datastore](https://data.london.gov.uk/): a free, open-source data-sharing portal for London-oriented datasets. "
   ]
  },
  {
   "cell_type": "code",
   "execution_count": 2,
   "metadata": {
    "colab": {},
    "colab_type": "code",
    "id": "AiLiD4v3Jpgr"
   },
   "outputs": [],
   "source": [
    "# First, make a variable called url_LondonHousePrices, and assign it the following link, enclosed in quotation-marks as a string:\n",
    "# https://data.london.gov.uk/download/uk-house-price-index/70ac0766-8902-4eb5-aab5-01951aaed773/UK%20House%20price%20index.xls\n",
    "\n",
    "url_LondonHousePrices = \"https://data.london.gov.uk/download/uk-house-price-index/70ac0766-8902-4eb5-aab5-01951aaed773/UK%20House%20price%20index.xls\"\n",
    "\n",
    "# The dataset we're interested in contains the Average prices of the houses, and is actually on a particular sheet of the Excel file. \n",
    "# As a result, we need to specify the sheet name in the read_excel() method.\n",
    "# Put this data into a variable called properties.  \n",
    "properties = pd.read_excel(url_LondonHousePrices, sheet_name='Average price', index_col= None)"
   ]
  },
  {
   "cell_type": "markdown",
   "metadata": {
    "colab_type": "text",
    "id": "POukEJXgJpgu"
   },
   "source": [
    "### 2. Cleaning, transforming, and visualizing\n",
    "This second stage is arguably the most important part of any Data Science project. The first thing to do is take a proper look at the data. Cleaning forms the majority of this stage, and can be done both before or after Transformation.\n",
    "\n",
    "The end goal of data cleaning is to have tidy data. When data is tidy: \n",
    "\n",
    "1. Each variable has a column.\n",
    "2. Each observation forms a row.\n",
    "\n",
    "Keep the end goal in mind as you move through this process, every step will take you closer. \n",
    "\n",
    "\n",
    "\n",
    "***Hint:*** This part of the data science pipeline should test those skills you acquired in: \n",
    "- Intermediate Python for data science, all modules.\n",
    "- pandas Foundations, all modules. \n",
    "- Manipulating DataFrames with pandas, all modules.\n",
    "- Data Types for Data Science, Module Four.\n",
    "- Python Data Science Toolbox - Part One, all modules"
   ]
  },
  {
   "cell_type": "markdown",
   "metadata": {
    "colab_type": "text",
    "id": "Te0Q548tnzZa"
   },
   "source": [
    "**2.1. Exploring your data** \n",
    "\n",
    "Think about your pandas functions for checking out a dataframe. "
   ]
  },
  {
   "cell_type": "code",
   "execution_count": 3,
   "metadata": {
    "colab": {},
    "colab_type": "code",
    "id": "Rxirxw_qoAJa"
   },
   "outputs": [
    {
     "name": "stdout",
     "output_type": "stream",
     "text": [
      "(322, 49)\n",
      "  Unnamed: 0 City of London Barking & Dagenham       Barnet       Bexley  \\\n",
      "0        NaT      E09000001          E09000002    E09000003    E09000004   \n",
      "1 1995-01-01    91448.98487         50460.2266  93284.51832  64958.09036   \n",
      "2 1995-02-01    82202.77314        51085.77983  93190.16963  64787.92069   \n",
      "3 1995-03-01    79120.70256        51268.96956  92247.52435  64367.49344   \n",
      "4 1995-04-01    77101.20804        53133.50526  90762.87492  64277.66881   \n",
      "\n",
      "         Brent      Bromley       Camden      Croydon       Ealing  ...  \\\n",
      "0    E09000005    E09000006    E09000007    E09000008    E09000009  ...   \n",
      "1  71306.56698  81671.47692  120932.8881  69158.16225  79885.89069  ...   \n",
      "2  72022.26197  81657.55944  119508.8622  68951.09542  80897.06551  ...   \n",
      "3  72015.76274  81449.31143  120282.2131  68712.44341  81379.86288  ...   \n",
      "4  72965.63094  81124.41227   120097.899  68610.04641  82188.90498  ...   \n",
      "\n",
      "    NORTH WEST YORKS & THE HUMBER EAST MIDLANDS WEST MIDLANDS EAST OF ENGLAND  \\\n",
      "0    E12000002          E12000003     E12000004     E12000005       E12000006   \n",
      "1  43958.48001        44803.42878   45544.52227   48527.52339      56701.5961   \n",
      "2  43925.42289        44528.80721   46051.57066   49341.29029     56593.59475   \n",
      "3   44434.8681        45200.46775   45383.82395   49442.17973     56171.18278   \n",
      "4   44267.7796        45614.34341   46124.23045   49455.93299     56567.89582   \n",
      "\n",
      "        LONDON   SOUTH EAST   SOUTH WEST Unnamed: 47      England  \n",
      "0    E12000007    E12000008    E12000009         NaN    E92000001  \n",
      "1  74435.76052  64018.87894   54705.1579         NaN  53202.77128  \n",
      "2  72777.93709  63715.02399  54356.14843         NaN   53096.1549  \n",
      "3  73896.84204  64113.60858  53583.07667         NaN   53201.2843  \n",
      "4  74455.28754  64623.22395  54786.01938         NaN   53590.8548  \n",
      "\n",
      "[5 rows x 49 columns]\n"
     ]
    }
   ],
   "source": [
    "print( properties.shape )\n",
    "print( properties.head() )"
   ]
  },
  {
   "cell_type": "markdown",
   "metadata": {
    "colab_type": "text",
    "id": "tE9Sqt9-oAta"
   },
   "source": [
    "**2.2. Cleaning the data**\n",
    "\n",
    "You might find you need to transpose your dataframe, check out what its row indexes are, and reset the index. You  also might find you need to assign the values of the first row to your column headings  . (Hint: recall the .columns feature of DataFrames, as well as the iloc[] method).\n",
    "\n",
    "Don't be afraid to use StackOverflow for help  with this."
   ]
  },
  {
   "cell_type": "code",
   "execution_count": 4,
   "metadata": {
    "colab": {},
    "colab_type": "code",
    "id": "cdAu1A3YoH_r"
   },
   "outputs": [
    {
     "name": "stdout",
     "output_type": "stream",
     "text": [
      "0             Unnamed: 0        NaN 1995-01-01 00:00:00 1995-02-01 00:00:00  \\\n",
      "1         City of London  E09000001         91448.98487         82202.77314   \n",
      "2     Barking & Dagenham  E09000002          50460.2266         51085.77983   \n",
      "3                 Barnet  E09000003         93284.51832         93190.16963   \n",
      "4                 Bexley  E09000004         64958.09036         64787.92069   \n",
      "5                  Brent  E09000005         71306.56698         72022.26197   \n",
      "6                Bromley  E09000006         81671.47692         81657.55944   \n",
      "7                 Camden  E09000007         120932.8881         119508.8622   \n",
      "8                Croydon  E09000008         69158.16225         68951.09542   \n",
      "9                 Ealing  E09000009         79885.89069         80897.06551   \n",
      "10               Enfield  E09000010         72514.69096         73155.19746   \n",
      "11             Greenwich  E09000011         62300.10169         60993.26863   \n",
      "12               Hackney  E09000012         61296.52637         63187.08332   \n",
      "13  Hammersmith & Fulham  E09000013         124902.8602          122087.718   \n",
      "14              Haringey  E09000014         76287.56947         78901.21036   \n",
      "15                Harrow  E09000015         84769.52599         83396.10525   \n",
      "16              Havering  E09000016         68000.13774         69393.51294   \n",
      "17            Hillingdon  E09000017         73834.82964          75031.0696   \n",
      "18              Hounslow  E09000018         72231.70537         71051.55852   \n",
      "19             Islington  E09000019         92516.48557         94342.37334   \n",
      "20  Kensington & Chelsea  E09000020         182694.8326         182345.2463   \n",
      "21  Kingston upon Thames  E09000021         80875.84843         81230.13524   \n",
      "22               Lambeth  E09000022         67770.98843         65381.51908   \n",
      "23              Lewisham  E09000023         60491.26109         60869.27091   \n",
      "24                Merton  E09000024          82070.6133         79982.74872   \n",
      "25                Newham  E09000025         53539.31919         53153.88306   \n",
      "26             Redbridge  E09000026         72189.58437          72141.6261   \n",
      "27  Richmond upon Thames  E09000027         109326.1245         111103.0394   \n",
      "28             Southwark  E09000028         67885.20344          64799.0648   \n",
      "29                Sutton  E09000029         71536.97357         70893.20851   \n",
      "30         Tower Hamlets  E09000030         59865.18995         62318.53353   \n",
      "31        Waltham Forest  E09000031         61319.44913         60252.12246   \n",
      "32            Wandsworth  E09000032         88559.04381         88641.01678   \n",
      "33           Westminster  E09000033         133025.2772         131468.3096   \n",
      "34           Unnamed: 34        NaN                 NaN                 NaN   \n",
      "35          Inner London  E13000001          78251.9765         75885.70201   \n",
      "36          Outer London  E13000002         72958.79836         72937.88262   \n",
      "37           Unnamed: 37        NaN                 NaN                 NaN   \n",
      "38            NORTH EAST  E12000001         42076.35411         42571.98949   \n",
      "39            NORTH WEST  E12000002         43958.48001         43925.42289   \n",
      "40    YORKS & THE HUMBER  E12000003         44803.42878         44528.80721   \n",
      "41         EAST MIDLANDS  E12000004         45544.52227         46051.57066   \n",
      "42         WEST MIDLANDS  E12000005         48527.52339         49341.29029   \n",
      "43       EAST OF ENGLAND  E12000006          56701.5961         56593.59475   \n",
      "44                LONDON  E12000007         74435.76052         72777.93709   \n",
      "45            SOUTH EAST  E12000008         64018.87894         63715.02399   \n",
      "46            SOUTH WEST  E12000009          54705.1579         54356.14843   \n",
      "47           Unnamed: 47        NaN                 NaN                 NaN   \n",
      "48               England  E92000001         53202.77128          53096.1549   \n",
      "\n",
      "0  1995-03-01 00:00:00 1995-04-01 00:00:00 1995-05-01 00:00:00  \\\n",
      "1          79120.70256         77101.20804         84409.14932   \n",
      "2          51268.96956         53133.50526         53042.24852   \n",
      "3          92247.52435         90762.87492         90258.00033   \n",
      "4          64367.49344         64277.66881         63997.13588   \n",
      "5          72015.76274         72965.63094         73704.04743   \n",
      "6          81449.31143         81124.41227         81542.61561   \n",
      "7          120282.2131          120097.899         119929.2782   \n",
      "8          68712.44341         68610.04641          68844.9169   \n",
      "9          81379.86288         82188.90498         82077.05525   \n",
      "10         72190.44144         71442.92235         70630.77955   \n",
      "11         61377.83464          61927.7246         63512.99103   \n",
      "12         63593.29935         65139.64403         66193.99212   \n",
      "13         120635.9467         121424.6241          124433.539   \n",
      "14         78521.94855         79545.57477          79374.0349   \n",
      "15         83416.23759         83567.88439         83853.65615   \n",
      "16         69368.02407         69444.26215         68534.52248   \n",
      "17         74188.66949         73911.40591         73117.12416   \n",
      "18         72097.99411         71890.28339         72877.47219   \n",
      "19         93465.86407         93344.49305         94346.39917   \n",
      "20         182878.8231         184176.9168         191474.1141   \n",
      "21         81111.48848         81672.80476         82123.51084   \n",
      "22         66336.51868          66388.7716         69035.11076   \n",
      "23         60288.03002         59471.03136         58551.38387   \n",
      "24         80661.68279         79990.54333         80873.98643   \n",
      "25         53458.26393         54479.75395         55803.95958   \n",
      "26         72501.35502         72228.60295         72366.64122   \n",
      "27         107325.4742              106875         107707.6799   \n",
      "28         65763.29719         63073.62117         64420.49933   \n",
      "29         70306.83844          69411.9439         69759.21989   \n",
      "30         63938.67686         66233.19383         66432.85846   \n",
      "31         60871.08493         60971.39722         61494.16938   \n",
      "32         87124.81523         87026.00225         86518.05945   \n",
      "33         132260.3417         133370.2036         133911.1117   \n",
      "34                 NaN                 NaN                 NaN   \n",
      "35         76591.59947         76851.56697         79129.19443   \n",
      "36         72714.53478         72591.92469         72752.99414   \n",
      "37                 NaN                 NaN                 NaN   \n",
      "38         42369.72984          42095.8436         43266.45165   \n",
      "39          44434.8681          44267.7796         44223.61973   \n",
      "40         45200.46775         45614.34341         44830.98563   \n",
      "41         45383.82395         46124.23045         45878.00396   \n",
      "42         49442.17973         49455.93299         50369.66188   \n",
      "43         56171.18278         56567.89582         56479.80183   \n",
      "44         73896.84204         74455.28754         75432.02786   \n",
      "45         64113.60858         64623.22395         64530.36358   \n",
      "46         53583.07667         54786.01938         54698.83831   \n",
      "47                 NaN                 NaN                 NaN   \n",
      "48          53201.2843          53590.8548         53678.24041   \n",
      "\n",
      "0  1995-06-01 00:00:00 1995-07-01 00:00:00 1995-08-01 00:00:00  ...  \\\n",
      "1          94900.51244         110128.0423         112329.4376  ...   \n",
      "2          53700.34831         52113.12157         52232.19868  ...   \n",
      "3          90107.23471         91441.24768         92361.31512  ...   \n",
      "4          64252.32335         63722.70055         64432.60005  ...   \n",
      "5          74310.48167         74127.03788          73547.0411  ...   \n",
      "6          82382.83435         82898.52264         82054.37156  ...   \n",
      "7          121887.4625         124027.5768         125529.8039  ...   \n",
      "8          69052.51103         69142.48112         68993.42545  ...   \n",
      "9          81630.66181          82352.2226         82706.65927  ...   \n",
      "10         71348.31147         71837.54011         72237.94562  ...   \n",
      "11         64751.56404         65486.34112         65076.43195  ...   \n",
      "12         66921.17101           68390.753         68096.79385  ...   \n",
      "13         126175.1513         124381.5134         123625.3196  ...   \n",
      "14          79956.3621         80746.34881         81217.69074  ...   \n",
      "15         84173.24689         84226.69844         84430.61796  ...   \n",
      "16         68464.60664         68680.83996         69023.36482  ...   \n",
      "17         74005.00585         74671.13263         74967.86534  ...   \n",
      "18         72331.08116         73717.78844         74479.94802  ...   \n",
      "19         97428.94311         98976.14077         98951.20791  ...   \n",
      "20         197265.7602         197963.3169         198037.4218  ...   \n",
      "21         82205.66822           82525.793         83342.84552  ...   \n",
      "22         68881.15764         69608.72242         68840.02827  ...   \n",
      "23         58041.43543         58126.37811          58151.3154  ...   \n",
      "24         80704.92667         81055.90335         80781.09186  ...   \n",
      "25         56067.76986         55458.31693         54709.35467  ...   \n",
      "26          72279.4325         72880.83974         73275.16891  ...   \n",
      "27         112865.0542         114656.6011         112320.4096  ...   \n",
      "28         64155.81449         67024.74767         65525.94434  ...   \n",
      "29         70125.24728         70789.57284         69958.41918  ...   \n",
      "30         66232.16372         64692.22672         63472.27558  ...   \n",
      "31         61547.79643         61933.52738          61916.4222  ...   \n",
      "32          88114.3351         89830.58934         90560.68078  ...   \n",
      "33         134562.1941         133450.2162         136581.5082  ...   \n",
      "34                 NaN                 NaN                 NaN  ...   \n",
      "35          79969.1525         80550.47935         80597.64563  ...   \n",
      "36         73189.39978         73665.90517         73691.12888  ...   \n",
      "37                 NaN                 NaN                 NaN  ...   \n",
      "38         42315.34372         43287.74323         41899.05494  ...   \n",
      "39         44112.96432         44109.58764         44193.66583  ...   \n",
      "40         45392.63981         45534.99864         45111.45939  ...   \n",
      "41         45679.99539         46037.67312         45922.53585  ...   \n",
      "42         50100.43023         49860.00809         49598.45969  ...   \n",
      "43         56288.94557         57242.30186         56732.40547  ...   \n",
      "44         75606.24501         75984.24079         75529.34488  ...   \n",
      "45           65511.008         65224.88465         64851.60429  ...   \n",
      "46         54420.15939         54265.86368         54365.71495  ...   \n",
      "47                 NaN                 NaN                 NaN  ...   \n",
      "48         53735.15475         53900.60633         53600.31975  ...   \n",
      "\n",
      "0  2020-12-01 00:00:00 2021-01-01 00:00:00 2021-02-01 00:00:00  \\\n",
      "1          801999.0466         754194.0982         725011.1264   \n",
      "2          309560.1023         312470.4977         315749.3442   \n",
      "3          532528.0926         538683.8133         537171.1625   \n",
      "4          352260.8385         355756.7322         359323.8616   \n",
      "5          495066.6459         514525.2307         516500.5723   \n",
      "6          453388.6856          456571.197         453632.2303   \n",
      "7          786159.1736         798149.7212         798820.4453   \n",
      "8          380132.1469         379261.6339         382158.5357   \n",
      "9           495499.091         499011.7714         500087.4833   \n",
      "10         412872.2663         416954.0539         419951.5816   \n",
      "11         401012.0953         406713.2209         405056.0858   \n",
      "12         589271.7224          591590.965         594583.4644   \n",
      "13         728846.8663         722886.0508         704276.1181   \n",
      "14          584144.363         588947.9402         581410.2395   \n",
      "15         474609.0823         475677.8097          480157.454   \n",
      "16         378206.3802          380761.931         385078.7322   \n",
      "17         426361.8057         426738.5829         427213.5696   \n",
      "18          425582.459         427916.3576         422585.0115   \n",
      "19         661169.9422         672027.3866         677120.9147   \n",
      "20         1350334.637         1337175.555         1257226.819   \n",
      "21         497767.9431         500219.3318         500974.8453   \n",
      "22         538485.0954         542712.3891         531307.0111   \n",
      "23         440484.5339         441848.4308         443625.9603   \n",
      "24         555218.8649         554030.6187          545660.496   \n",
      "25          387426.982         384152.7481         387638.7552   \n",
      "26         440915.5361         448155.1034         449080.5999   \n",
      "27         692690.2272         690103.0433         678193.6591   \n",
      "28         540038.4516         543831.7383         527778.8668   \n",
      "29         391576.5318         393323.8516         394657.7315   \n",
      "30         468389.6716         461773.3349         465938.4942   \n",
      "31         473237.6061         473419.6547         478590.5474   \n",
      "32         607846.3389         603657.7372          596959.905   \n",
      "33         916413.8942         930292.8761         939560.1102   \n",
      "34                 NaN                 NaN                 NaN   \n",
      "35         593672.3963         594120.6105         589082.6996   \n",
      "36         443059.0041         446055.7625         446599.6088   \n",
      "37                 NaN                 NaN                 NaN   \n",
      "38         139712.8463         139542.2809         139842.7165   \n",
      "39         183163.7436         181582.0247         184740.5591   \n",
      "40         180627.5702         180277.0375         181496.1478   \n",
      "41         211156.7286         210428.2222         213238.2903   \n",
      "42         215421.6458          212759.701         216529.6215   \n",
      "43         307339.3853         305096.2129         307809.3811   \n",
      "44         497928.5995         497850.5888         490528.0896   \n",
      "45         340839.4608         339178.1221         340653.4121   \n",
      "46         278732.1498         276182.9204         278732.2549   \n",
      "47                 NaN                 NaN                 NaN   \n",
      "48         267194.1781         265629.2048         267611.8874   \n",
      "\n",
      "0  2021-03-01 00:00:00 2021-04-01 00:00:00 2021-05-01 00:00:00  \\\n",
      "1          719703.4989         728496.7198         720954.3631   \n",
      "2          312381.5975         313131.2516         312430.6526   \n",
      "3          537972.6322          530778.403         533319.3495   \n",
      "4          361782.2198         362053.2197         361919.1777   \n",
      "5          520406.5733         502074.0621         506917.3065   \n",
      "6          456081.6031         460584.6091         464872.5485   \n",
      "7          807672.9972         815246.6493         811080.3625   \n",
      "8          387919.6983         391035.3876         391236.9134   \n",
      "9          507784.4069         509540.4726         508368.5016   \n",
      "10         422061.8201         420699.1392         418235.5793   \n",
      "11         404344.2337          403407.448         401170.5496   \n",
      "12         589016.4306         575163.0971         565534.2821   \n",
      "13         706625.2981         729780.6953          735758.306   \n",
      "14         576100.2615         559926.7973         558834.7969   \n",
      "15         483276.2621         488941.2616         489516.3518   \n",
      "16         385550.2956         387190.7152         388062.7303   \n",
      "17         425265.3713         427908.8745         427822.3621   \n",
      "18         426399.3568         435617.0537          427376.339   \n",
      "19         682058.9283         661868.3108         668102.3093   \n",
      "20         1207253.022         1189761.969          1223351.43   \n",
      "21         505173.4783         502482.7099         504367.0279   \n",
      "22         535148.6618         531280.9554         543243.5305   \n",
      "23         447538.8559         444759.0383         433139.7752   \n",
      "24         548741.8925         542715.8331         540692.2901   \n",
      "25         389223.0718          385141.995         380125.6198   \n",
      "26         447309.4976         449763.6936         451935.9512   \n",
      "27         681998.9558         690474.6611          701319.953   \n",
      "28         520337.3209         509004.9473         507543.0745   \n",
      "29         396110.6274         395429.0934          395317.852   \n",
      "30         456989.6757         454880.8688         438160.3873   \n",
      "31         481702.6638         479491.7656         476898.2854   \n",
      "32         599847.3131         600245.7925         600170.4199   \n",
      "33         951078.1124         939173.1073         908209.3205   \n",
      "34                 NaN                 NaN                 NaN   \n",
      "35         587970.7403         583282.1642         579645.2979   \n",
      "36         448720.3491          449279.005         449667.5348   \n",
      "37                 NaN                 NaN                 NaN   \n",
      "38         142545.1216         140297.8401         140115.0365   \n",
      "39         186978.2619         184809.1223         185423.3235   \n",
      "40         183307.8384         179601.8686         182339.4077   \n",
      "41          214226.128         212602.6669         213819.6823   \n",
      "42         217698.5985         216554.7127         217328.3043   \n",
      "43         310512.6613         309454.5703         310491.7583   \n",
      "44         498203.6789         494401.9154         487722.6137   \n",
      "45         344976.3052         343165.0976         344759.8103   \n",
      "46         283109.3957         279115.9655         278603.3754   \n",
      "47                 NaN                 NaN                 NaN   \n",
      "48         270656.6657         268092.8404         268724.3741   \n",
      "\n",
      "0  2021-06-01 00:00:00 2021-07-01 00:00:00 2021-08-01 00:00:00  \\\n",
      "1          729878.6878                   -                   -   \n",
      "2          317234.7354         319549.9296         322496.3752   \n",
      "3          541296.7827         536012.6687         544558.8072   \n",
      "4          364464.1865         366451.6388         373547.2951   \n",
      "5          514055.8987         528684.0547         533696.3904   \n",
      "6          470431.4171          466447.004         473570.3561   \n",
      "7          814571.2461         906099.2001          921525.014   \n",
      "8          393198.4071         389730.0859         393245.7812   \n",
      "9          507915.9556         515141.3288         515422.2833   \n",
      "10         419803.0944         421158.7954         433986.2088   \n",
      "11          408486.914         398457.9115         407976.0611   \n",
      "12         580763.7037         594503.9987         643719.5727   \n",
      "13         742818.8831         827704.2291         860868.1808   \n",
      "14         560601.0931         610025.4839         637896.4386   \n",
      "15         489793.6425         483698.6654         486333.8144   \n",
      "16         389441.4026         392434.1134         392816.9311   \n",
      "17         428092.6552         427353.7684          440633.876   \n",
      "18         427002.8187          417355.592         441097.6488   \n",
      "19         665423.0219         700197.1027         695773.5672   \n",
      "20         1230796.794         1321923.591         1396618.476   \n",
      "21          511798.096         518251.1589         528748.6121   \n",
      "22         535825.4719         508702.4131         507061.9925   \n",
      "23         430257.0783          417458.413          431886.712   \n",
      "24         541278.3307         544610.3996         559114.7972   \n",
      "25         382971.0109         366701.6688         379482.6897   \n",
      "26         455605.5482         461489.5978         470113.1844   \n",
      "27         698800.8957         719159.0459         736113.0276   \n",
      "28          507753.747         519188.4685         534447.2837   \n",
      "29         396832.6977         401044.1434          401378.723   \n",
      "30         441463.0108         459966.7264         466570.5264   \n",
      "31         474203.8201         493007.7479         502104.8103   \n",
      "32         602200.0282         602540.2419         614932.2951   \n",
      "33          888342.854         922331.0222         1016725.048   \n",
      "34                 NaN                 NaN                 NaN   \n",
      "35         580376.5862         583203.1502         602638.0417   \n",
      "36         452390.5306         453741.2705         461432.0667   \n",
      "37                 NaN                 NaN                 NaN   \n",
      "38          148797.687         140359.3964         147240.6501   \n",
      "39         197661.6803         183579.6782         193412.2798   \n",
      "40         193209.6025         181001.6873         184981.5805   \n",
      "41         223976.9936         213574.8626         220414.7332   \n",
      "42          229297.292         219099.9661         224543.8573   \n",
      "43         322092.8865         311122.1376         322439.0604   \n",
      "44         504433.0067         499917.0498         522364.6891   \n",
      "45         358976.2837          347159.291         360169.2272   \n",
      "46         295365.2541         275176.6978         289645.0637   \n",
      "47                 NaN                 NaN                 NaN   \n",
      "48         282278.1418          269084.097         279653.1009   \n",
      "\n",
      "0  2021-09-01 00:00:00  \n",
      "1                    -  \n",
      "2          329287.2922  \n",
      "3           533093.293  \n",
      "4           375156.155  \n",
      "5          542095.3343  \n",
      "6           483955.024  \n",
      "7          895902.4347  \n",
      "8          391878.8752  \n",
      "9          525536.4856  \n",
      "10         440813.0792  \n",
      "11         414809.8387  \n",
      "12         657278.2784  \n",
      "13         841494.9545  \n",
      "14         650508.7965  \n",
      "15         508344.2174  \n",
      "16         401412.1605  \n",
      "17         446340.1024  \n",
      "18         431281.0041  \n",
      "19         700001.0762  \n",
      "20         1386350.167  \n",
      "21         545618.1198  \n",
      "22         542030.0084  \n",
      "23         422043.5631  \n",
      "24         555225.5399  \n",
      "25         365357.1433  \n",
      "26          480339.944  \n",
      "27         735675.2191  \n",
      "28         536755.5255  \n",
      "29          415227.665  \n",
      "30         440846.7361  \n",
      "31         505389.1863  \n",
      "32         599124.4127  \n",
      "33         965766.3554  \n",
      "34                 NaN  \n",
      "35         595297.4347  \n",
      "36         466574.8732  \n",
      "37                 NaN  \n",
      "38         152775.8163  \n",
      "39         203661.3679  \n",
      "40         192354.2782  \n",
      "41         231317.6557  \n",
      "42         231501.4076  \n",
      "43         327981.6844  \n",
      "44         507253.0352  \n",
      "45         370886.2724  \n",
      "46         301327.0222  \n",
      "47                 NaN  \n",
      "48         287895.4003  \n",
      "\n",
      "[48 rows x 323 columns]\n"
     ]
    }
   ],
   "source": [
    "properties_T = properties.transpose()\n",
    "properties_T = properties_T.reset_index()\n",
    "#print( properties_T.index)\n",
    "properties_T.columns = properties_T.iloc[0]\n",
    "#print( properties_T.columns )\n",
    "properties_T = properties_T.drop( 0 )\n",
    "print( properties_T )"
   ]
  },
  {
   "cell_type": "markdown",
   "metadata": {
    "colab_type": "text",
    "id": "o1uLbJAsoIjK"
   },
   "source": [
    "**2.3. Cleaning the data (part 2)**\n",
    "\n",
    "You might we have to **rename** a couple columns. How do you do this? The clue's pretty bold..."
   ]
  },
  {
   "cell_type": "code",
   "execution_count": 5,
   "metadata": {
    "colab": {},
    "colab_type": "code",
    "id": "GKkmn1AnoVZS"
   },
   "outputs": [
    {
     "name": "stdout",
     "output_type": "stream",
     "text": [
      "0      London_Borough         ID 1995-01-01 00:00:00 1995-02-01 00:00:00  \\\n",
      "1      City of London  E09000001         91448.98487         82202.77314   \n",
      "2  Barking & Dagenham  E09000002          50460.2266         51085.77983   \n",
      "3              Barnet  E09000003         93284.51832         93190.16963   \n",
      "4              Bexley  E09000004         64958.09036         64787.92069   \n",
      "5               Brent  E09000005         71306.56698         72022.26197   \n",
      "\n",
      "0 1995-03-01 00:00:00 1995-04-01 00:00:00 1995-05-01 00:00:00  \\\n",
      "1         79120.70256         77101.20804         84409.14932   \n",
      "2         51268.96956         53133.50526         53042.24852   \n",
      "3         92247.52435         90762.87492         90258.00033   \n",
      "4         64367.49344         64277.66881         63997.13588   \n",
      "5         72015.76274         72965.63094         73704.04743   \n",
      "\n",
      "0 1995-06-01 00:00:00 1995-07-01 00:00:00 1995-08-01 00:00:00  ...  \\\n",
      "1         94900.51244         110128.0423         112329.4376  ...   \n",
      "2         53700.34831         52113.12157         52232.19868  ...   \n",
      "3         90107.23471         91441.24768         92361.31512  ...   \n",
      "4         64252.32335         63722.70055         64432.60005  ...   \n",
      "5         74310.48167         74127.03788          73547.0411  ...   \n",
      "\n",
      "0 2020-12-01 00:00:00 2021-01-01 00:00:00 2021-02-01 00:00:00  \\\n",
      "1         801999.0466         754194.0982         725011.1264   \n",
      "2         309560.1023         312470.4977         315749.3442   \n",
      "3         532528.0926         538683.8133         537171.1625   \n",
      "4         352260.8385         355756.7322         359323.8616   \n",
      "5         495066.6459         514525.2307         516500.5723   \n",
      "\n",
      "0 2021-03-01 00:00:00 2021-04-01 00:00:00 2021-05-01 00:00:00  \\\n",
      "1         719703.4989         728496.7198         720954.3631   \n",
      "2         312381.5975         313131.2516         312430.6526   \n",
      "3         537972.6322          530778.403         533319.3495   \n",
      "4         361782.2198         362053.2197         361919.1777   \n",
      "5         520406.5733         502074.0621         506917.3065   \n",
      "\n",
      "0 2021-06-01 00:00:00 2021-07-01 00:00:00 2021-08-01 00:00:00  \\\n",
      "1         729878.6878                   -                   -   \n",
      "2         317234.7354         319549.9296         322496.3752   \n",
      "3         541296.7827         536012.6687         544558.8072   \n",
      "4         364464.1865         366451.6388         373547.2951   \n",
      "5         514055.8987         528684.0547         533696.3904   \n",
      "\n",
      "0 2021-09-01 00:00:00  \n",
      "1                   -  \n",
      "2         329287.2922  \n",
      "3          533093.293  \n",
      "4          375156.155  \n",
      "5         542095.3343  \n",
      "\n",
      "[5 rows x 323 columns]\n"
     ]
    }
   ],
   "source": [
    "properties_T = properties_T.rename( columns = { 'Unnamed: 0' : 'London_Borough', pd.NaT : 'ID'} )\n",
    "print( properties_T.head() )"
   ]
  },
  {
   "cell_type": "markdown",
   "metadata": {
    "colab_type": "text",
    "id": "jy8BzXHmoWEw"
   },
   "source": [
    "**2.4.Transforming the data**\n",
    "\n",
    "Remember what Wes McKinney said about tidy data? \n",
    "\n",
    "You might need to **melt** your DataFrame here. "
   ]
  },
  {
   "cell_type": "code",
   "execution_count": 6,
   "metadata": {
    "colab": {},
    "colab_type": "code",
    "id": "S2wM0qLuo2Zt"
   },
   "outputs": [
    {
     "name": "stdout",
     "output_type": "stream",
     "text": [
      "       London_Borough         ID          0        value\n",
      "0      City of London  E09000001 1995-01-01  91448.98487\n",
      "1  Barking & Dagenham  E09000002 1995-01-01   50460.2266\n",
      "2              Barnet  E09000003 1995-01-01  93284.51832\n",
      "3              Bexley  E09000004 1995-01-01  64958.09036\n",
      "4               Brent  E09000005 1995-01-01  71306.56698\n"
     ]
    }
   ],
   "source": [
    "melted_properties = pd.melt( properties_T, id_vars = ['London_Borough', 'ID'])\n",
    "print( melted_properties.head())"
   ]
  },
  {
   "cell_type": "markdown",
   "metadata": {
    "colab_type": "text",
    "id": "7kIsgAo7o3mf"
   },
   "source": [
    "Remember to make sure your column data types are all correct. Average prices, for example, should be floating point numbers... "
   ]
  },
  {
   "cell_type": "code",
   "execution_count": 7,
   "metadata": {
    "colab": {},
    "colab_type": "code",
    "id": "ZcR4IHbcpOaq"
   },
   "outputs": [
    {
     "name": "stdout",
     "output_type": "stream",
     "text": [
      "       London_Borough         ID      Month Average_Price\n",
      "0      City of London  E09000001 1995-01-01   91448.98487\n",
      "1  Barking & Dagenham  E09000002 1995-01-01    50460.2266\n",
      "2              Barnet  E09000003 1995-01-01   93284.51832\n",
      "3              Bexley  E09000004 1995-01-01   64958.09036\n",
      "4               Brent  E09000005 1995-01-01   71306.56698\n",
      "London_Borough            object\n",
      "ID                        object\n",
      "Month             datetime64[ns]\n",
      "Average_Price            float64\n",
      "dtype: object\n"
     ]
    }
   ],
   "source": [
    "melted_properties = melted_properties.rename( columns = { 0 : 'Month', 'value' : 'Average_Price'})\n",
    "print( melted_properties.head() )\n",
    "melted_properties['Average_Price'] = pd.to_numeric( melted_properties['Average_Price'], errors='coerce')\n",
    "print( melted_properties.dtypes)"
   ]
  },
  {
   "cell_type": "markdown",
   "metadata": {
    "colab_type": "text",
    "id": "knLUXHLypOtw"
   },
   "source": [
    "**2.5. Cleaning the data (part 3)**\n",
    "\n",
    "Do we have an equal number of observations in the ID, Average Price, Month, and London Borough columns? Remember that there are only 32 London Boroughs. How many entries do you have in that column? \n",
    "\n",
    "Check out the contents of the London Borough column, and if you find null values, get rid of them however you see fit. "
   ]
  },
  {
   "cell_type": "code",
   "execution_count": 8,
   "metadata": {
    "colab": {},
    "colab_type": "code",
    "id": "BnvTW5a3p0fC"
   },
   "outputs": [
    {
     "name": "stdout",
     "output_type": "stream",
     "text": [
      "['City of London' 'Barking & Dagenham' 'Barnet' 'Bexley' 'Brent' 'Bromley'\n",
      " 'Camden' 'Croydon' 'Ealing' 'Enfield' 'Greenwich' 'Hackney'\n",
      " 'Hammersmith & Fulham' 'Haringey' 'Harrow' 'Havering' 'Hillingdon'\n",
      " 'Hounslow' 'Islington' 'Kensington & Chelsea' 'Kingston upon Thames'\n",
      " 'Lambeth' 'Lewisham' 'Merton' 'Newham' 'Redbridge' 'Richmond upon Thames'\n",
      " 'Southwark' 'Sutton' 'Tower Hamlets' 'Waltham Forest' 'Wandsworth'\n",
      " 'Westminster' 'Unnamed: 34' 'Inner London' 'Outer London' 'Unnamed: 37'\n",
      " 'NORTH EAST' 'NORTH WEST' 'YORKS & THE HUMBER' 'EAST MIDLANDS'\n",
      " 'WEST MIDLANDS' 'EAST OF ENGLAND' 'LONDON' 'SOUTH EAST' 'SOUTH WEST'\n",
      " 'Unnamed: 47' 'England']\n",
      "32\n",
      "['Barking & Dagenham' 'Barnet' 'Bexley' 'Brent' 'Bromley' 'Camden'\n",
      " 'Croydon' 'Ealing' 'Enfield' 'Greenwich' 'Hackney' 'Hammersmith & Fulham'\n",
      " 'Haringey' 'Harrow' 'Havering' 'Hillingdon' 'Hounslow' 'Islington'\n",
      " 'Kensington & Chelsea' 'Kingston upon Thames' 'Lambeth' 'Lewisham'\n",
      " 'Merton' 'Newham' 'Redbridge' 'Richmond upon Thames' 'Southwark' 'Sutton'\n",
      " 'Tower Hamlets' 'Waltham Forest' 'Wandsworth' 'Westminster']\n"
     ]
    }
   ],
   "source": [
    "print( melted_properties['London_Borough'].unique() )\n",
    "#print( melted_properties[ melted_properties['London_Borough'] == 'Unnamed: 37' ])\n",
    "melted_properties = melted_properties.dropna()\n",
    "non_boroughs = ['Inner London', 'Outer London', \n",
    "               'NORTH EAST', 'NORTH WEST', 'YORKS & THE HUMBER', \n",
    "               'EAST MIDLANDS', 'WEST MIDLANDS',\n",
    "              'EAST OF ENGLAND', 'LONDON', 'SOUTH EAST', \n",
    "              'SOUTH WEST', 'England', 'City of London']\n",
    "cleaned_properties = melted_properties[~melted_properties['London_Borough'].isin( non_boroughs )]\n",
    "print( cleaned_properties['London_Borough'].nunique() )\n",
    "print( cleaned_properties['London_Borough'].unique() )"
   ]
  },
  {
   "cell_type": "markdown",
   "metadata": {
    "colab_type": "text",
    "id": "PGEx6mJsp6dG"
   },
   "source": [
    "**2.6. Visualizing the data**\n",
    "\n",
    "To visualize the data, why not subset on a particular London Borough? Maybe do a line plot of Month against Average Price?"
   ]
  },
  {
   "cell_type": "code",
   "execution_count": 9,
   "metadata": {
    "colab": {},
    "colab_type": "code",
    "id": "nAg5pT9cqHAR"
   },
   "outputs": [
    {
     "name": "stdout",
     "output_type": "stream",
     "text": [
      "    London_Borough         ID      Month  Average_Price\n",
      "3           Bexley  E09000004 1995-01-01    64958.09036\n",
      "51          Bexley  E09000004 1995-02-01    64787.92069\n",
      "99          Bexley  E09000004 1995-03-01    64367.49344\n",
      "147         Bexley  E09000004 1995-04-01    64277.66881\n",
      "195         Bexley  E09000004 1995-05-01    63997.13588\n"
     ]
    },
    {
     "data": {
      "image/png": "[encoded data removed]",
      "text/plain": [
       "<Figure size 432x288 with 1 Axes>"
      ]
     },
     "metadata": {
      "needs_background": "light"
     },
     "output_type": "display_data"
    }
   ],
   "source": [
    "df = cleaned_properties\n",
    "bexley_prices = df[df['London_Borough'] == 'Bexley']\n",
    "print( bexley_prices.head())\n",
    "a = bexley_prices.plot( 'Month','Average_Price')\n",
    "a.set_ylabel('Price')\n",
    "plt.show()"
   ]
  },
  {
   "cell_type": "markdown",
   "metadata": {
    "colab_type": "text",
    "id": "aWTPqSJeqHnC"
   },
   "source": [
    "To limit the number of data points you have, you might want to extract the year from every month value your *Month* column. \n",
    "\n",
    "To this end, you *could* apply a ***lambda function***. Your logic could work as follows:\n",
    "1. look through the `Month` column\n",
    "2. extract the year from each individual value in that column \n",
    "3. store that corresponding year as separate column. \n",
    "\n",
    "Whether you go ahead with this is up to you. Just so long as you answer our initial brief: which boroughs of London have seen the greatest house price increase, on average, over the past two decades? "
   ]
  },
  {
   "cell_type": "code",
   "execution_count": 10,
   "metadata": {
    "colab": {},
    "colab_type": "code",
    "id": "e0DF92cyqnu8"
   },
   "outputs": [
    {
     "name": "stdout",
     "output_type": "stream",
     "text": [
      "                           Average_Price\n",
      "London_Borough       Year               \n",
      "Enfield              2008  245839.333108\n",
      "Redbridge            2019  411967.881133\n",
      "Kingston upon Thames 2005  251156.254508\n",
      "Haringey             2013  372233.573275\n",
      "Redbridge            1995   72580.490579\n",
      "Greenwich            2011  229295.398225\n",
      "Enfield              2020  395992.080825\n",
      "                     2013  261604.355867\n",
      "Hackney              1996   69247.652452\n",
      "Barnet               2005  279459.669683\n",
      "       London_Borough  Year  Average_Price\n",
      "0  Barking & Dagenham  1995   51817.969390\n",
      "1  Barking & Dagenham  1996   51718.192690\n",
      "2  Barking & Dagenham  1997   55974.262309\n",
      "3  Barking & Dagenham  1998   60285.821083\n",
      "4  Barking & Dagenham  1999   65320.934441\n"
     ]
    },
    {
     "name": "stderr",
     "output_type": "stream",
     "text": [
      "<ipython-input-10-7da3bb0f7947>:1: SettingWithCopyWarning: \n",
      "A value is trying to be set on a copy of a slice from a DataFrame.\n",
      "Try using .loc[row_indexer,col_indexer] = value instead\n",
      "\n",
      "See the caveats in the documentation: https://pandas.pydata.org/pandas-docs/stable/user_guide/indexing.html#returning-a-view-versus-a-copy\n",
      "  df['Year'] = df['Month'].apply( lambda dt : dt.year)\n"
     ]
    }
   ],
   "source": [
    "df['Year'] = df['Month'].apply( lambda dt : dt.year)\n",
    "#df._setitem_( 'Year', df['Month'].apply( lambda dt : dt.year))\n",
    "df_group = df.groupby( by=['London_Borough','Year'] ).mean()\n",
    "print( df_group.sample( 10 ) )\n",
    "df_group = df_group.reset_index()\n",
    "print( df_group.head() )"
   ]
  },
  {
   "cell_type": "markdown",
   "metadata": {
    "colab_type": "text",
    "id": "2knuTxAEqoJ4"
   },
   "source": [
    "**3. Modeling**\n",
    "\n",
    "Consider creating a function that will calculate a ratio of house prices, comparing the price of a house in 2018 to the price in 1998.\n",
    "\n",
    "Consider calling this function create_price_ratio.\n",
    "\n",
    "You'd want this function to:\n",
    "1. Take a filter of dfg, specifically where this filter constrains the London_Borough, as an argument. For example, one admissible argument should be: dfg[dfg['London_Borough']=='Camden'].\n",
    "2. Get the Average Price for that Borough, for the years 1998 and 2018.\n",
    "4. Calculate the ratio of the Average Price for 1998 divided by the Average Price for 2018.\n",
    "5. Return that ratio.\n",
    "\n",
    "Once you've written this function, you ultimately want to use it to iterate through all the unique London_Boroughs and work out the ratio capturing the difference of house prices between 1998 and 2018.\n",
    "\n",
    "Bear in mind: you don't have to write a function like this if you don't want to. If you can solve the brief otherwise, then great! \n",
    "\n",
    "***Hint***: This section should test the skills you acquired in:\n",
    "- Python Data Science Toolbox - Part One, all modules"
   ]
  },
  {
   "cell_type": "code",
   "execution_count": 11,
   "metadata": {
    "colab": {},
    "colab_type": "code",
    "id": "cKTyr437UgDa"
   },
   "outputs": [
    {
     "data": {
      "image/png": "[encoded data removed]",
      "text/plain": [
       "<Figure size 432x288 with 1 Axes>"
      ]
     },
     "metadata": {
      "needs_background": "light"
     },
     "output_type": "display_data"
    }
   ],
   "source": [
    "def create_price_ratio(dfg_filter):\n",
    "    dfg_1998 = dfg_filter[dfg_filter['Year'] == 1998]\n",
    "    dfg_2018 = dfg_filter[dfg_filter['Year'] == 2018]\n",
    "    ratio = float( dfg_1998['Average_Price'] ) / float( dfg_2018['Average_Price'] )\n",
    "    return ratio\n",
    "\n",
    "ratios = {}\n",
    "for borough in df_group['London_Borough'].unique():\n",
    "    ratios[borough] = create_price_ratio( df_group[df_group['London_Borough'] == borough] )\n",
    "\n",
    "df_ratios = pd.DataFrame( ratios.items() )\n",
    "df_ratios.rename(columns = {0:'Borough', 1:'2018'}, inplace=True )\n",
    "#print( df_ratios.head() )\n",
    "top15 = df_ratios.sort_values( by='2018', ascending=False ).head( 15 )\n",
    "\n",
    "top15_plot = top15.plot( kind='bar', x='Borough', y='2018')"
   ]
  },
  {
   "cell_type": "markdown",
   "metadata": {
    "colab_type": "text",
    "id": "NzYUI7FxJpgv"
   },
   "source": [
    "### 4. Conclusion\n",
    "What can you conclude? Type out your conclusion below. \n",
    "\n",
    "Look back at your notebook. Think about how you might summarize what you have done, and prepare a quick presentation on it to your mentor at your next meeting. \n",
    "\n",
    "We hope you enjoyed this practical project. It should have consolidated your data hygiene and pandas skills by looking at a real-world problem involving just the kind of dataset you might encounter as a budding data scientist. Congratulations, and looking forward to seeing you at the next step in the course! "
   ]
  }
 ],
 "metadata": {
  "colab": {
   "collapsed_sections": [],
   "name": "Springboard Data Science Career Track Unit 4 Challenge - Tier 3 Complete .ipynb",
   "provenance": []
  },
  "kernelspec": {
   "display_name": "Python 3",
   "language": "python",
   "name": "python3"
  },
  "language_info": {
   "codemirror_mode": {
    "name": "ipython",
    "version": 3
   },
   "file_extension": ".py",
   "mimetype": "text/x-python",
   "name": "python",
   "nbconvert_exporter": "python",
   "pygments_lexer": "ipython3",
   "version": "3.8.8"
  }
 },
 "nbformat": 4,
 "nbformat_minor": 1
}

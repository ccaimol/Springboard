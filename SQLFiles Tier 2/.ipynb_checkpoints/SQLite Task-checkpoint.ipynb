{
 "cells": [
  {
   "cell_type": "code",
   "execution_count": 1,
   "id": "a689a81b",
   "metadata": {},
   "outputs": [],
   "source": [
    "# Import packages\n",
    "import sqlite3"
   ]
  },
  {
   "cell_type": "code",
   "execution_count": 2,
   "id": "be161bc7",
   "metadata": {},
   "outputs": [],
   "source": [
    "# Connect to database\n",
    "con = sqlite3.connect( 'sqlite_db_pythonsqlite.db' )\n",
    "cur = con.cursor()"
   ]
  },
  {
   "cell_type": "code",
   "execution_count": 3,
   "id": "4899f67b",
   "metadata": {},
   "outputs": [],
   "source": [
    "def execute_query( query, cursor ):\n",
    "    \"\"\"\n",
    "    Executes query and fetches resulting table\n",
    "    \"\"\"\n",
    "    cursor.execute( query )\n",
    "    rows = cursor.fetchall()\n",
    "    for row in rows:\n",
    "        print( row )"
   ]
  },
  {
   "cell_type": "code",
   "execution_count": 4,
   "id": "39141e0b",
   "metadata": {},
   "outputs": [
    {
     "name": "stdout",
     "output_type": "stream",
     "text": [
      "(0, 'Tennis Court 1', 5, 25, 10000, 200)\n",
      "(1, 'Tennis Court 2', 5, 25, 8000, 200)\n",
      "(2, 'Badminton Court', 0, 15.5, 4000, 50)\n",
      "(3, 'Table Tennis', 0, 5, 320, 10)\n",
      "(4, 'Massage Room 1', 9.9, 80, 4000, 3000)\n",
      "(5, 'Massage Room 2', 9.9, 80, 4000, 3000)\n",
      "(6, 'Squash Court', 3.5, 17.5, 5000, 80)\n",
      "(7, 'Snooker Table', 0, 5, 450, 15)\n",
      "(8, 'Pool Table', 0, 5, 400, 15)\n"
     ]
    }
   ],
   "source": [
    "# Test query to make sure everything is working\n",
    "query1 = \"SELECT * FROM Facilities\"\n",
    "execute_query( query1, cur )"
   ]
  },
  {
   "cell_type": "code",
   "execution_count": 7,
   "id": "fdcf5d6f",
   "metadata": {},
   "outputs": [
    {
     "name": "stdout",
     "output_type": "stream",
     "text": [
      "('Massage Room 1', 50351.600000000275)\n",
      "('Massage Room 2', 14454.599999999995)\n",
      "('Tennis Court 2', 14310)\n",
      "('Tennis Court 1', 13860)\n",
      "('Squash Court', 13468.0)\n",
      "('Badminton Court', 1906.5)\n"
     ]
    }
   ],
   "source": [
    "# Q10: Produce a list of facilities with a total revenue less than 1000.\n",
    "# The output of facility name and total revenue, sorted by revenue. Remember\n",
    "# that there's a different cost for guests and members! \n",
    "query2 = \"\"\"\n",
    "SELECT *\n",
    "FROM (\n",
    "\t\tSELECT inner_sub.facility,\n",
    "\t\t\tSUM( inner_sub.cost ) AS total_revenue\n",
    "\t\tFROM (\n",
    "\t \t\t\tSELECT name AS facility,\n",
    "    \t\t\t\tCASE WHEN memid = 0 THEN guestcost * slots\n",
    "\t\t\t\t\tELSE membercost * slots END AS cost\n",
    "\t\t\t\tFROM Bookings\n",
    "\t\t\t\tLEFT JOIN Facilities\n",
    "\t\t\t\tUSING (facid) ) AS inner_sub\n",
    "\t\tGROUP BY inner_sub.facility\n",
    "    ) AS outer_sub\n",
    "WHERE outer_sub.total_revenue > 1000\n",
    "ORDER BY outer_sub.total_revenue DESC;\n",
    "\"\"\"\n",
    "execute_query( query2, cur )"
   ]
  },
  {
   "cell_type": "code",
   "execution_count": 6,
   "id": "5457856a",
   "metadata": {},
   "outputs": [
    {
     "name": "stdout",
     "output_type": "stream",
     "text": [
      "('Bader', 'Florence', 'Stibbons', 'Ponder')\n",
      "('Baker', 'Anne', 'Stibbons', 'Ponder')\n",
      "('Baker', 'Timothy', 'Farrell', 'Jemima')\n",
      "('Boothe', 'Tim', 'Rownam', 'Tim')\n",
      "('Butters', 'Gerald', 'Smith', 'Darren')\n",
      "('Coplin', 'Joan', 'Baker', 'Timothy')\n",
      "('Crumpet', 'Erica', 'Smith', 'Tracy')\n",
      "('Dare', 'Nancy', 'Joplette', 'Janice')\n",
      "('Farrell', 'David', None, None)\n",
      "('Farrell', 'Jemima', None, None)\n",
      "('GUEST', 'GUEST', None, None)\n",
      "('Genting', 'Matthew', 'Butters', 'Gerald')\n",
      "('Hunt', 'John', 'Purview', 'Millicent')\n",
      "('Jones', 'David', 'Joplette', 'Janice')\n",
      "('Jones', 'Douglas', 'Jones', 'David')\n",
      "('Joplette', 'Janice', 'Smith', 'Darren')\n",
      "('Mackenzie', 'Anna', 'Smith', 'Darren')\n",
      "('Owen', 'Charles', 'Smith', 'Darren')\n",
      "('Pinker', 'David', 'Farrell', 'Jemima')\n",
      "('Purview', 'Millicent', 'Smith', 'Tracy')\n",
      "('Rownam', 'Tim', None, None)\n",
      "('Rumney', 'Henrietta', 'Genting', 'Matthew')\n",
      "('Sarwin', 'Ramnaresh', 'Bader', 'Florence')\n",
      "('Smith', 'Darren', None, None)\n",
      "('Smith', 'Darren', None, None)\n",
      "('Smith', 'Jack', 'Smith', 'Darren')\n",
      "('Smith', 'Tracy', None, None)\n",
      "('Stibbons', 'Ponder', 'Tracy', 'Burton')\n",
      "('Tracy', 'Burton', None, None)\n",
      "('Tupperware', 'Hyacinth', None, None)\n",
      "('Worthington-Smyth', 'Henry', 'Smith', 'Tracy')\n"
     ]
    }
   ],
   "source": [
    "# Q11: Produce a report of members and who recommended them in alphabetic surname,firstname order \n",
    "query3 = \"\"\"\n",
    "    SELECT m1.surname, m1.firstname, \n",
    "\t   m2.surname AS recommend_surname, \n",
    "\t   m2.firstname AS recommend_firstname\n",
    "FROM Members m1\n",
    "LEFT JOIN Members m2\n",
    "ON m1.recommendedby = m2.memid\n",
    "ORDER BY m1.surname, m1.firstname;\n",
    "\"\"\"\n",
    "execute_query( query3, cur )"
   ]
  },
  {
   "cell_type": "code",
   "execution_count": null,
   "id": "d3185101",
   "metadata": {},
   "outputs": [],
   "source": [
    "# Q12: Find the facilities with their usage by member, but not guests */\n",
    "query4 = \"\"\n",
    "execute_query( query4, cur )"
   ]
  },
  {
   "cell_type": "code",
   "execution_count": null,
   "id": "d38166cf",
   "metadata": {},
   "outputs": [],
   "source": [
    "# Q13: Find the facilities usage by month, but not guests \n",
    "query5 = \"\"\n",
    "execute_query( query5, cur )"
   ]
  }
 ],
 "metadata": {
  "kernelspec": {
   "display_name": "Python 3",
   "language": "python",
   "name": "python3"
  },
  "language_info": {
   "codemirror_mode": {
    "name": "ipython",
    "version": 3
   },
   "file_extension": ".py",
   "mimetype": "text/x-python",
   "name": "python",
   "nbconvert_exporter": "python",
   "pygments_lexer": "ipython3",
   "version": "3.8.8"
  }
 },
 "nbformat": 4,
 "nbformat_minor": 5
}

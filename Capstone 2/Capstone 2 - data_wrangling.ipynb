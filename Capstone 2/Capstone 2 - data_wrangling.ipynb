{
 "cells": [
  {
   "cell_type": "code",
   "execution_count": 1,
   "id": "09c64033",
   "metadata": {},
   "outputs": [],
   "source": [
    "# Import required packages\n",
    "import pandas as pd\n",
    "import matplotlib.pyplot as plt"
   ]
  },
  {
   "cell_type": "code",
   "execution_count": 2,
   "id": "7a2f5bed",
   "metadata": {},
   "outputs": [
    {
     "data": {
      "text/html": [
       "<div>\n",
       "<style scoped>\n",
       "    .dataframe tbody tr th:only-of-type {\n",
       "        vertical-align: middle;\n",
       "    }\n",
       "\n",
       "    .dataframe tbody tr th {\n",
       "        vertical-align: top;\n",
       "    }\n",
       "\n",
       "    .dataframe thead th {\n",
       "        text-align: right;\n",
       "    }\n",
       "</style>\n",
       "<table border=\"1\" class=\"dataframe\">\n",
       "  <thead>\n",
       "    <tr style=\"text-align: right;\">\n",
       "      <th></th>\n",
       "      <th>ID</th>\n",
       "      <th>Age</th>\n",
       "      <th>Gender</th>\n",
       "      <th>Education</th>\n",
       "      <th>Country</th>\n",
       "      <th>Ethnicity</th>\n",
       "      <th>Nscore</th>\n",
       "      <th>Escore</th>\n",
       "      <th>Oscore</th>\n",
       "      <th>Ascore</th>\n",
       "      <th>...</th>\n",
       "      <th>Ecstasy</th>\n",
       "      <th>Heroin</th>\n",
       "      <th>Ketamine</th>\n",
       "      <th>Legalh</th>\n",
       "      <th>LSD</th>\n",
       "      <th>Meth</th>\n",
       "      <th>Mushrooms</th>\n",
       "      <th>Nicotine</th>\n",
       "      <th>Semer</th>\n",
       "      <th>VSA</th>\n",
       "    </tr>\n",
       "  </thead>\n",
       "  <tbody>\n",
       "    <tr>\n",
       "      <th>0</th>\n",
       "      <td>1</td>\n",
       "      <td>0.49788</td>\n",
       "      <td>0.48246</td>\n",
       "      <td>-0.05921</td>\n",
       "      <td>0.96082</td>\n",
       "      <td>0.12600</td>\n",
       "      <td>0.31287</td>\n",
       "      <td>-0.57545</td>\n",
       "      <td>-0.58331</td>\n",
       "      <td>-0.91699</td>\n",
       "      <td>...</td>\n",
       "      <td>CL0</td>\n",
       "      <td>CL0</td>\n",
       "      <td>CL0</td>\n",
       "      <td>CL0</td>\n",
       "      <td>CL0</td>\n",
       "      <td>CL0</td>\n",
       "      <td>CL0</td>\n",
       "      <td>CL2</td>\n",
       "      <td>CL0</td>\n",
       "      <td>CL0</td>\n",
       "    </tr>\n",
       "    <tr>\n",
       "      <th>1</th>\n",
       "      <td>2</td>\n",
       "      <td>-0.07854</td>\n",
       "      <td>-0.48246</td>\n",
       "      <td>1.98437</td>\n",
       "      <td>0.96082</td>\n",
       "      <td>-0.31685</td>\n",
       "      <td>-0.67825</td>\n",
       "      <td>1.93886</td>\n",
       "      <td>1.43533</td>\n",
       "      <td>0.76096</td>\n",
       "      <td>...</td>\n",
       "      <td>CL4</td>\n",
       "      <td>CL0</td>\n",
       "      <td>CL2</td>\n",
       "      <td>CL0</td>\n",
       "      <td>CL2</td>\n",
       "      <td>CL3</td>\n",
       "      <td>CL0</td>\n",
       "      <td>CL4</td>\n",
       "      <td>CL0</td>\n",
       "      <td>CL0</td>\n",
       "    </tr>\n",
       "    <tr>\n",
       "      <th>2</th>\n",
       "      <td>3</td>\n",
       "      <td>0.49788</td>\n",
       "      <td>-0.48246</td>\n",
       "      <td>-0.05921</td>\n",
       "      <td>0.96082</td>\n",
       "      <td>-0.31685</td>\n",
       "      <td>-0.46725</td>\n",
       "      <td>0.80523</td>\n",
       "      <td>-0.84732</td>\n",
       "      <td>-1.62090</td>\n",
       "      <td>...</td>\n",
       "      <td>CL0</td>\n",
       "      <td>CL0</td>\n",
       "      <td>CL0</td>\n",
       "      <td>CL0</td>\n",
       "      <td>CL0</td>\n",
       "      <td>CL0</td>\n",
       "      <td>CL1</td>\n",
       "      <td>CL0</td>\n",
       "      <td>CL0</td>\n",
       "      <td>CL0</td>\n",
       "    </tr>\n",
       "    <tr>\n",
       "      <th>3</th>\n",
       "      <td>4</td>\n",
       "      <td>-0.95197</td>\n",
       "      <td>0.48246</td>\n",
       "      <td>1.16365</td>\n",
       "      <td>0.96082</td>\n",
       "      <td>-0.31685</td>\n",
       "      <td>-0.14882</td>\n",
       "      <td>-0.80615</td>\n",
       "      <td>-0.01928</td>\n",
       "      <td>0.59042</td>\n",
       "      <td>...</td>\n",
       "      <td>CL0</td>\n",
       "      <td>CL0</td>\n",
       "      <td>CL2</td>\n",
       "      <td>CL0</td>\n",
       "      <td>CL0</td>\n",
       "      <td>CL0</td>\n",
       "      <td>CL0</td>\n",
       "      <td>CL2</td>\n",
       "      <td>CL0</td>\n",
       "      <td>CL0</td>\n",
       "    </tr>\n",
       "    <tr>\n",
       "      <th>4</th>\n",
       "      <td>5</td>\n",
       "      <td>0.49788</td>\n",
       "      <td>0.48246</td>\n",
       "      <td>1.98437</td>\n",
       "      <td>0.96082</td>\n",
       "      <td>-0.31685</td>\n",
       "      <td>0.73545</td>\n",
       "      <td>-1.63340</td>\n",
       "      <td>-0.45174</td>\n",
       "      <td>-0.30172</td>\n",
       "      <td>...</td>\n",
       "      <td>CL1</td>\n",
       "      <td>CL0</td>\n",
       "      <td>CL0</td>\n",
       "      <td>CL1</td>\n",
       "      <td>CL0</td>\n",
       "      <td>CL0</td>\n",
       "      <td>CL2</td>\n",
       "      <td>CL2</td>\n",
       "      <td>CL0</td>\n",
       "      <td>CL0</td>\n",
       "    </tr>\n",
       "  </tbody>\n",
       "</table>\n",
       "<p>5 rows × 32 columns</p>\n",
       "</div>"
      ],
      "text/plain": [
       "   ID      Age   Gender  Education  Country  Ethnicity   Nscore   Escore  \\\n",
       "0   1  0.49788  0.48246   -0.05921  0.96082    0.12600  0.31287 -0.57545   \n",
       "1   2 -0.07854 -0.48246    1.98437  0.96082   -0.31685 -0.67825  1.93886   \n",
       "2   3  0.49788 -0.48246   -0.05921  0.96082   -0.31685 -0.46725  0.80523   \n",
       "3   4 -0.95197  0.48246    1.16365  0.96082   -0.31685 -0.14882 -0.80615   \n",
       "4   5  0.49788  0.48246    1.98437  0.96082   -0.31685  0.73545 -1.63340   \n",
       "\n",
       "    Oscore   Ascore  ...  Ecstasy  Heroin  Ketamine Legalh  LSD Meth  \\\n",
       "0 -0.58331 -0.91699  ...      CL0     CL0       CL0    CL0  CL0  CL0   \n",
       "1  1.43533  0.76096  ...      CL4     CL0       CL2    CL0  CL2  CL3   \n",
       "2 -0.84732 -1.62090  ...      CL0     CL0       CL0    CL0  CL0  CL0   \n",
       "3 -0.01928  0.59042  ...      CL0     CL0       CL2    CL0  CL0  CL0   \n",
       "4 -0.45174 -0.30172  ...      CL1     CL0       CL0    CL1  CL0  CL0   \n",
       "\n",
       "  Mushrooms Nicotine Semer  VSA  \n",
       "0       CL0      CL2   CL0  CL0  \n",
       "1       CL0      CL4   CL0  CL0  \n",
       "2       CL1      CL0   CL0  CL0  \n",
       "3       CL0      CL2   CL0  CL0  \n",
       "4       CL2      CL2   CL0  CL0  \n",
       "\n",
       "[5 rows x 32 columns]"
      ]
     },
     "execution_count": 2,
     "metadata": {},
     "output_type": "execute_result"
    }
   ],
   "source": [
    "# Read given data into pandas DataFrame\n",
    "# Assign column names to attributes described in Data Description\n",
    "# https://archive.ics.uci.edu/ml/datasets/Drug+consumption+%28quantified%29#\n",
    "filename = 'drug_consumption.data'\n",
    "column_names = ['ID', 'Age', 'Gender', 'Education', 'Country', 'Ethnicity', \n",
    "                'Nscore', 'Escore', 'Oscore', 'Ascore', 'Cscore', 'Impulsive', 'SS',\n",
    "                'Alcohol', 'Amphet', 'Amyl', 'Benzos', 'Caff', 'Cannabis', 'Choc', 'Coke', 'Crack', 'Ecstasy', 'Heroin',\n",
    "                'Ketamine', 'Legalh', 'LSD', 'Meth', 'Mushrooms', 'Nicotine', 'Semer', 'VSA']\n",
    "data = pd.read_csv( filename, header=None )\n",
    "data.columns = column_names\n",
    "data.head()"
   ]
  },
  {
   "cell_type": "code",
   "execution_count": 3,
   "id": "4d107b39",
   "metadata": {},
   "outputs": [
    {
     "name": "stdout",
     "output_type": "stream",
     "text": [
      "ID           0\n",
      "Age          0\n",
      "Gender       0\n",
      "Education    0\n",
      "Country      0\n",
      "Ethnicity    0\n",
      "Nscore       0\n",
      "Escore       0\n",
      "Oscore       0\n",
      "Ascore       0\n",
      "Cscore       0\n",
      "Impulsive    0\n",
      "SS           0\n",
      "Alcohol      0\n",
      "Amphet       0\n",
      "Amyl         0\n",
      "Benzos       0\n",
      "Caff         0\n",
      "Cannabis     0\n",
      "Choc         0\n",
      "Coke         0\n",
      "Crack        0\n",
      "Ecstasy      0\n",
      "Heroin       0\n",
      "Ketamine     0\n",
      "Legalh       0\n",
      "LSD          0\n",
      "Meth         0\n",
      "Mushrooms    0\n",
      "Nicotine     0\n",
      "Semer        0\n",
      "VSA          0\n",
      "dtype: int64\n"
     ]
    }
   ],
   "source": [
    "# Count number of missing values by column\n",
    "missing_data = data.isnull().sum()\n",
    "print( missing_data )"
   ]
  },
  {
   "cell_type": "code",
   "execution_count": 4,
   "id": "7f0fa75f",
   "metadata": {},
   "outputs": [],
   "source": [
    "# *** This confirms that there are no values set to null in this data set. HOWEVER, this does not eliminate \n",
    "#     the possibility of missing values in other ways ***"
   ]
  },
  {
   "cell_type": "code",
   "execution_count": 5,
   "id": "44b96407",
   "metadata": {},
   "outputs": [
    {
     "name": "stdout",
     "output_type": "stream",
     "text": [
      "2      1\n",
      "625    1\n",
      "649    1\n",
      "647    1\n",
      "645    1\n",
      "Name: ID, dtype: int64\n",
      "True\n"
     ]
    }
   ],
   "source": [
    "print( data['ID'].value_counts().head() )\n",
    "print ( data['ID'].nunique() == len( data ) )\n",
    "# *** This indicates that there are no duplicate entries as every ID is unique"
   ]
  },
  {
   "cell_type": "code",
   "execution_count": 6,
   "id": "0965b6f8",
   "metadata": {},
   "outputs": [
    {
     "name": "stdout",
     "output_type": "stream",
     "text": [
      "0        True\n",
      "1        True\n",
      "2        True\n",
      "3        True\n",
      "4        True\n",
      "        ...  \n",
      "1880    False\n",
      "1881    False\n",
      "1882    False\n",
      "1883    False\n",
      "1884    False\n",
      "Length: 1885, dtype: bool\n"
     ]
    }
   ],
   "source": [
    "print( data['ID'] == (data.index + 1))\n",
    "# *** At first glance, the participant IDs appear to be consecutively assigned. \n",
    "# *** After testing to see if each ID corresponded with index + 1, it showed that somewhere there was an inconsistency\n",
    "# *** On further inspection of the dataset, participants with data['ID'] 299 and 294 were ommitted. "
   ]
  },
  {
   "cell_type": "code",
   "execution_count": 7,
   "id": "521aa4d7",
   "metadata": {},
   "outputs": [
    {
     "data": {
      "text/html": [
       "<div>\n",
       "<style scoped>\n",
       "    .dataframe tbody tr th:only-of-type {\n",
       "        vertical-align: middle;\n",
       "    }\n",
       "\n",
       "    .dataframe tbody tr th {\n",
       "        vertical-align: top;\n",
       "    }\n",
       "\n",
       "    .dataframe thead th {\n",
       "        text-align: right;\n",
       "    }\n",
       "</style>\n",
       "<table border=\"1\" class=\"dataframe\">\n",
       "  <thead>\n",
       "    <tr style=\"text-align: right;\">\n",
       "      <th></th>\n",
       "      <th>ID</th>\n",
       "      <th>Age</th>\n",
       "      <th>Gender</th>\n",
       "      <th>Education</th>\n",
       "      <th>Country</th>\n",
       "      <th>Ethnicity</th>\n",
       "      <th>Nscore</th>\n",
       "      <th>Escore</th>\n",
       "      <th>Oscore</th>\n",
       "      <th>Ascore</th>\n",
       "      <th>...</th>\n",
       "      <th>Ecstasy</th>\n",
       "      <th>Heroin</th>\n",
       "      <th>Ketamine</th>\n",
       "      <th>Legalh</th>\n",
       "      <th>LSD</th>\n",
       "      <th>Meth</th>\n",
       "      <th>Mushrooms</th>\n",
       "      <th>Nicotine</th>\n",
       "      <th>Semer</th>\n",
       "      <th>VSA</th>\n",
       "    </tr>\n",
       "  </thead>\n",
       "  <tbody>\n",
       "    <tr>\n",
       "      <th>0</th>\n",
       "      <td>1</td>\n",
       "      <td>35-44</td>\n",
       "      <td>Female</td>\n",
       "      <td>Professional certificate/diploma</td>\n",
       "      <td>UK</td>\n",
       "      <td>Mixed-White/Asian</td>\n",
       "      <td>39</td>\n",
       "      <td>36</td>\n",
       "      <td>42</td>\n",
       "      <td>37</td>\n",
       "      <td>...</td>\n",
       "      <td>CL0</td>\n",
       "      <td>CL0</td>\n",
       "      <td>CL0</td>\n",
       "      <td>CL0</td>\n",
       "      <td>CL0</td>\n",
       "      <td>CL0</td>\n",
       "      <td>CL0</td>\n",
       "      <td>CL2</td>\n",
       "      <td>CL0</td>\n",
       "      <td>CL0</td>\n",
       "    </tr>\n",
       "    <tr>\n",
       "      <th>1</th>\n",
       "      <td>2</td>\n",
       "      <td>25-34</td>\n",
       "      <td>Male</td>\n",
       "      <td>Doctorate degree</td>\n",
       "      <td>UK</td>\n",
       "      <td>White</td>\n",
       "      <td>29</td>\n",
       "      <td>52</td>\n",
       "      <td>55</td>\n",
       "      <td>48</td>\n",
       "      <td>...</td>\n",
       "      <td>CL4</td>\n",
       "      <td>CL0</td>\n",
       "      <td>CL2</td>\n",
       "      <td>CL0</td>\n",
       "      <td>CL2</td>\n",
       "      <td>CL3</td>\n",
       "      <td>CL0</td>\n",
       "      <td>CL4</td>\n",
       "      <td>CL0</td>\n",
       "      <td>CL0</td>\n",
       "    </tr>\n",
       "    <tr>\n",
       "      <th>2</th>\n",
       "      <td>3</td>\n",
       "      <td>35-44</td>\n",
       "      <td>Male</td>\n",
       "      <td>Professional certificate/diploma</td>\n",
       "      <td>UK</td>\n",
       "      <td>White</td>\n",
       "      <td>31</td>\n",
       "      <td>45</td>\n",
       "      <td>40</td>\n",
       "      <td>32</td>\n",
       "      <td>...</td>\n",
       "      <td>CL0</td>\n",
       "      <td>CL0</td>\n",
       "      <td>CL0</td>\n",
       "      <td>CL0</td>\n",
       "      <td>CL0</td>\n",
       "      <td>CL0</td>\n",
       "      <td>CL1</td>\n",
       "      <td>CL0</td>\n",
       "      <td>CL0</td>\n",
       "      <td>CL0</td>\n",
       "    </tr>\n",
       "    <tr>\n",
       "      <th>3</th>\n",
       "      <td>4</td>\n",
       "      <td>18-24</td>\n",
       "      <td>Female</td>\n",
       "      <td>Masters degree</td>\n",
       "      <td>UK</td>\n",
       "      <td>White</td>\n",
       "      <td>34</td>\n",
       "      <td>34</td>\n",
       "      <td>46</td>\n",
       "      <td>47</td>\n",
       "      <td>...</td>\n",
       "      <td>CL0</td>\n",
       "      <td>CL0</td>\n",
       "      <td>CL2</td>\n",
       "      <td>CL0</td>\n",
       "      <td>CL0</td>\n",
       "      <td>CL0</td>\n",
       "      <td>CL0</td>\n",
       "      <td>CL2</td>\n",
       "      <td>CL0</td>\n",
       "      <td>CL0</td>\n",
       "    </tr>\n",
       "    <tr>\n",
       "      <th>4</th>\n",
       "      <td>5</td>\n",
       "      <td>35-44</td>\n",
       "      <td>Female</td>\n",
       "      <td>Doctorate degree</td>\n",
       "      <td>UK</td>\n",
       "      <td>White</td>\n",
       "      <td>43</td>\n",
       "      <td>28</td>\n",
       "      <td>43</td>\n",
       "      <td>41</td>\n",
       "      <td>...</td>\n",
       "      <td>CL1</td>\n",
       "      <td>CL0</td>\n",
       "      <td>CL0</td>\n",
       "      <td>CL1</td>\n",
       "      <td>CL0</td>\n",
       "      <td>CL0</td>\n",
       "      <td>CL2</td>\n",
       "      <td>CL2</td>\n",
       "      <td>CL0</td>\n",
       "      <td>CL0</td>\n",
       "    </tr>\n",
       "  </tbody>\n",
       "</table>\n",
       "<p>5 rows × 32 columns</p>\n",
       "</div>"
      ],
      "text/plain": [
       "   ID    Age  Gender                         Education Country  \\\n",
       "0   1  35-44  Female  Professional certificate/diploma      UK   \n",
       "1   2  25-34    Male                  Doctorate degree      UK   \n",
       "2   3  35-44    Male  Professional certificate/diploma      UK   \n",
       "3   4  18-24  Female                    Masters degree      UK   \n",
       "4   5  35-44  Female                  Doctorate degree      UK   \n",
       "\n",
       "           Ethnicity  Nscore  Escore  Oscore  Ascore  ...  Ecstasy  Heroin  \\\n",
       "0  Mixed-White/Asian      39      36      42      37  ...      CL0     CL0   \n",
       "1              White      29      52      55      48  ...      CL4     CL0   \n",
       "2              White      31      45      40      32  ...      CL0     CL0   \n",
       "3              White      34      34      46      47  ...      CL0     CL0   \n",
       "4              White      43      28      43      41  ...      CL1     CL0   \n",
       "\n",
       "   Ketamine Legalh  LSD Meth Mushrooms Nicotine Semer  VSA  \n",
       "0       CL0    CL0  CL0  CL0       CL0      CL2   CL0  CL0  \n",
       "1       CL2    CL0  CL2  CL3       CL0      CL4   CL0  CL0  \n",
       "2       CL0    CL0  CL0  CL0       CL1      CL0   CL0  CL0  \n",
       "3       CL2    CL0  CL0  CL0       CL0      CL2   CL0  CL0  \n",
       "4       CL0    CL1  CL0  CL0       CL2      CL2   CL0  CL0  \n",
       "\n",
       "[5 rows x 32 columns]"
      ]
     },
     "execution_count": 7,
     "metadata": {},
     "output_type": "execute_result"
    }
   ],
   "source": [
    "# Ambiguous floating point values in dataset were replaced with their more meaningful original values\n",
    "# Data types were changed to match those of the original data\n",
    "nscores = [12, 13, 14, 15, 16, 17, 18, 19, 20, 21, 22, 23, 24, 25, 26, 27, 28,\n",
    "           29, 30, 31, 32, 33, 34, 35, 36, 37, 38, 39, 40, 41, 42, 43, 44, 45, \n",
    "           46, 47, 48, 49, 50, 51, 52, 53, 54, 55, 56, 57, 58, 59, 60]\n",
    "escores = [16, 18, 19, 20, 21, 22, 23, 24, 25, 26, 27, 28, 29, 30,\n",
    "           31, 32, 33, 34, 35, 36, 37, 38, 39, 40, 41, 42, 43, 44,\n",
    "           45, 46, 47, 48, 49, 50, 51, 52, 53, 54, 55, 56, 58, 59]\n",
    "oscores = [24, 26, 28, 29, 30, 31, 32, 33, 34, 35, 36, 37,\n",
    "           38, 39, 40, 41, 42, 43, 44, 45, 46, 47, 48, 49,\n",
    "           50, 51, 52, 53, 54, 55, 56, 57, 58, 59, 60]\n",
    "ascores = [12, 16, 18, 23, 24, 25, 26, 27, 28, 29, 30, 31, 32, 33,\n",
    "           34, 35, 36, 37, 38, 39, 40, 41, 42, 43, 44, 45, 46, 47,\n",
    "           48, 49, 50, 51, 52, 53, 54, 55, 56, 57, 58, 59, 60]\n",
    "cscores = [17, 19, 20, 21, 22, 23, 24, 25, 26, 27, 28, 29, 30, 31,\n",
    "           32, 33, 34, 35, 36, 37, 38, 39, 40, 41, 42, 43, 44, 45,\n",
    "           46, 47, 48, 49, 50, 51, 52, 53, 54, 55, 56, 57, 59]\n",
    "\n",
    "data['Age'] = data['Age'].replace( [-0.95197, -0.07854, 0.49788, 1.09449, 1.82213, 2.59171], \n",
    "                                   ['18-24', '25-34', '35-44', '45-54', '55-64', '65+'])\n",
    "data['Gender'] = data['Gender'].replace( [0.48246, -0.48246], \n",
    "                                         ['Female', 'Male'] )\n",
    "data['Education'] = data['Education'].replace( [-2.43591, -1.73790, -1.43719, -1.22751, -0.61113, -0.05921, 0.45468, 1.16365, 1.98437], \n",
    "                                               ['Left school before 16 years', \n",
    "                                                'Left school at 16 years', \n",
    "                                                'Left school at 17 years', \n",
    "                                                'Left school at 18 years',\n",
    "                                                'Some college or university, no certificate or degree',\n",
    "                                                'Professional certificate/diploma',\n",
    "                                                'University degree',\n",
    "                                                'Masters degree',\n",
    "                                                'Doctorate degree'])\n",
    "data['Country'] = data['Country'].replace( [-0.09765, 0.24923, -0.46841, -0.28519, 0.21128, 0.96082, -0.57009], \n",
    "                                           ['Australia', 'Canada', 'New Zealand', 'Other', 'Republic of Ireland', 'UK', 'USA'])\n",
    "data['Ethnicity'] = data['Ethnicity'].replace( [-0.50212, -1.10702, 1.90725, 0.12600, -0.22166, 0.11440, -0.31685],\n",
    "                                               ['Asian', 'Black', 'Mixed-Black/Asian', 'Mixed-White/Asian', 'Mixed-White/Black', 'Other', 'White'])\n",
    "data['Nscore'] = data['Nscore'].replace( [-3.46436, -3.15735, -2.75696, -2.52197, -2.42317, -2.34360, -2.21844, -2.05048, -1.86962, -1.69163, -1.55078, -1.43907, -1.32828, -1.19430, -1.05308, -0.92104, -0.79151,\n",
    "                                          -0.67825, -0.58016, -0.46725, -0.34799, -0.24649, -0.14882, -0.05188, 0.04257, 0.13606, 0.22393, 0.31287, 0.41667, 0.52135, 0.62967, 0.73545, 0.82562, 0.91093,\n",
    "                                           1.02119, 1.13281, 1.23461, 1.37297, 1.49158, 1.60383, 1.72012, 1.83990, 1.98437, 2.12700, 2.28554, 2.46262, 2.61139, 2.82196, 3.27393],\n",
    "                                          nscores).astype(int)\n",
    "data['Escore'] = data['Escore'].replace( [-3.27393, -3.00537, -2.72827, -2.53830, -2.44904, -2.32338, -2.21069, -2.11437, -2.03972, -1.92173, -1.76250, -1.63340, -1.50796, -1.37639,\n",
    "                                          -1.23177, -1.09207, -0.94779, -0.80615, -0.69509, -0.57545, -0.43999, -0.30033, -0.15487, 0.00332, 0.16767, 0.32197, 0.47617, 0.63779,\n",
    "                                          0.80523, 0.96248, 1.11406, 1.28610, 1.45421, 1.58487, 1.74091, 1.93886, 2.12700, 2.32338, 2.57309, 2.85950, 3.00537, 3.27393],\n",
    "                                          escores).astype(int)\n",
    "data['Oscore'] = data['Oscore'].replace( [-3.27393, -2.85950, -2.63199, -2.39883, -2.21069, -2.09015, -1.97495, -1.82919, -1.68062, -1.55521, -1.42424, -1.27553,\n",
    "                                          -1.11902, -0.97631, -0.84732, -0.71727, -0.58331, -0.45174, -0.31776, -0.17779, -0.01928, 0.14143, 0.29338, 0.44585,\n",
    "                                          0.58331, 0.72330, 0.88309, 1.06238, 1.24033, 1.43533, 1.65653, 1.88511, 2.15324, 2.44904, 2.90161],\n",
    "                                          oscores).astype(int)\n",
    "data['Ascore'] = data['Ascore'].replace( [-3.46436, -3.15735, -3.00537, -2.90161, -2.78793, -2.70172, -2.53830, -2.35413, -2.21844, -2.07848, -1.92595, -1.77200, -1.62090, -1.47955,\n",
    "                                          -1.34289, -1.21213, -1.07533, -0.91699, -0.76096, -0.60633, -0.45321, -0.30172, -0.15487, -0.01729, 0.13136, 0.28783, 0.43852, 0.59042,\n",
    "                                          0.76096, 0.94156, 1.11406, 1.2861, 1.45039, 1.61108, 1.81866, 2.03972, 2.23427, 2.46262, 2.75696, 3.15735, 3.46436],\n",
    "                                          ascores).astype(int)\n",
    "data['Cscore'] = data['Cscore'].replace( [-3.46436, -3.15735, -2.90161, -2.72827, -2.57309, -2.42317, -2.30408, -2.18109, -2.04506, -1.92173, -1.78169, -1.64101, -1.51840, -1.38502,\n",
    "                                          -1.25773, -1.13788, -1.01450, -0.89891, -0.78155, -0.65253, -0.52745, -0.40581, -0.27607, -0.14277, -0.00665, 0.12331, 0.25953, 0.41594,\n",
    "                                          0.58489, 0.7583, 0.93949, 1.13407, 1.30612, 1.46191, 1.63088, 1.81175, 2.04506, 2.33337, 2.63199, 3.00537, 3.46436],\n",
    "                                          cscores).astype(int)\n",
    "data.head()"
   ]
  },
  {
   "cell_type": "code",
   "execution_count": 8,
   "id": "51cf54c5",
   "metadata": {},
   "outputs": [
    {
     "data": {
      "text/plain": [
       "18-24    643\n",
       "25-34    481\n",
       "35-44    356\n",
       "45-54    294\n",
       "55-64     93\n",
       "65+       18\n",
       "Name: Age, dtype: int64"
      ]
     },
     "execution_count": 8,
     "metadata": {},
     "output_type": "execute_result"
    }
   ],
   "source": [
    "data['Age'].value_counts()"
   ]
  },
  {
   "cell_type": "code",
   "execution_count": 9,
   "id": "e80d5ca6",
   "metadata": {},
   "outputs": [
    {
     "data": {
      "text/plain": [
       "Male      943\n",
       "Female    942\n",
       "Name: Gender, dtype: int64"
      ]
     },
     "execution_count": 9,
     "metadata": {},
     "output_type": "execute_result"
    }
   ],
   "source": [
    "data['Gender'].value_counts()"
   ]
  },
  {
   "cell_type": "code",
   "execution_count": 10,
   "id": "5595bfa6",
   "metadata": {},
   "outputs": [
    {
     "data": {
      "text/plain": [
       "Some college or university, no certificate or degree    506\n",
       "University degree                                       480\n",
       "Masters degree                                          283\n",
       "Professional certificate/diploma                        270\n",
       "Left school at 18 years                                 100\n",
       "Left school at 16 years                                  99\n",
       "Doctorate degree                                         89\n",
       "Left school at 17 years                                  30\n",
       "Left school before 16 years                              28\n",
       "Name: Education, dtype: int64"
      ]
     },
     "execution_count": 10,
     "metadata": {},
     "output_type": "execute_result"
    }
   ],
   "source": [
    "data['Education'].value_counts()"
   ]
  },
  {
   "cell_type": "code",
   "execution_count": 11,
   "id": "e92c6480",
   "metadata": {},
   "outputs": [
    {
     "data": {
      "text/plain": [
       "True"
      ]
     },
     "execution_count": 11,
     "metadata": {},
     "output_type": "execute_result"
    }
   ],
   "source": [
    "len( data[data['Nscore'].isin( nscores )] )  == 1885"
   ]
  },
  {
   "cell_type": "code",
   "execution_count": 12,
   "id": "500df4aa",
   "metadata": {},
   "outputs": [
    {
     "data": {
      "text/plain": [
       "True"
      ]
     },
     "execution_count": 12,
     "metadata": {},
     "output_type": "execute_result"
    }
   ],
   "source": [
    "len( data[data['Escore'].isin( escores )] )  == 1885"
   ]
  },
  {
   "cell_type": "code",
   "execution_count": 13,
   "id": "04238a8c",
   "metadata": {},
   "outputs": [
    {
     "data": {
      "text/plain": [
       "True"
      ]
     },
     "execution_count": 13,
     "metadata": {},
     "output_type": "execute_result"
    }
   ],
   "source": [
    "len( data[data['Oscore'].isin( oscores )] )  == 1885"
   ]
  },
  {
   "cell_type": "code",
   "execution_count": 14,
   "id": "ee8aa0c9",
   "metadata": {},
   "outputs": [
    {
     "data": {
      "text/plain": [
       "True"
      ]
     },
     "execution_count": 14,
     "metadata": {},
     "output_type": "execute_result"
    }
   ],
   "source": [
    "len( data[data['Ascore'].isin( ascores )] )  == 1885"
   ]
  },
  {
   "cell_type": "code",
   "execution_count": 15,
   "id": "39381dc8",
   "metadata": {},
   "outputs": [
    {
     "data": {
      "text/plain": [
       "True"
      ]
     },
     "execution_count": 15,
     "metadata": {},
     "output_type": "execute_result"
    }
   ],
   "source": [
    "len( data[data['Cscore'].isin( cscores )] )  == 1885"
   ]
  },
  {
   "cell_type": "code",
   "execution_count": 16,
   "id": "9c9835e6",
   "metadata": {},
   "outputs": [
    {
     "ename": "FileNotFoundError",
     "evalue": "[Errno 2] No such file or directory: '../data/drug_use_data_cleaned.csv'",
     "output_type": "error",
     "traceback": [
      "\u001b[1;31m---------------------------------------------------------------------------\u001b[0m",
      "\u001b[1;31mFileNotFoundError\u001b[0m                         Traceback (most recent call last)",
      "\u001b[1;32m<ipython-input-16-8782def22876>\u001b[0m in \u001b[0;36m<module>\u001b[1;34m\u001b[0m\n\u001b[0;32m      1\u001b[0m \u001b[1;31m# save the data to a new csv file\u001b[0m\u001b[1;33m\u001b[0m\u001b[1;33m\u001b[0m\u001b[1;33m\u001b[0m\u001b[0m\n\u001b[1;32m----> 2\u001b[1;33m \u001b[0mdata\u001b[0m\u001b[1;33m.\u001b[0m\u001b[0mto_csv\u001b[0m\u001b[1;33m(\u001b[0m\u001b[1;34m'../data/drug_use_data_cleaned.csv'\u001b[0m \u001b[1;33m)\u001b[0m\u001b[1;33m\u001b[0m\u001b[1;33m\u001b[0m\u001b[0m\n\u001b[0m",
      "\u001b[1;32m~\\anaconda3\\lib\\site-packages\\pandas\\core\\generic.py\u001b[0m in \u001b[0;36mto_csv\u001b[1;34m(self, path_or_buf, sep, na_rep, float_format, columns, header, index, index_label, mode, encoding, compression, quoting, quotechar, line_terminator, chunksize, date_format, doublequote, escapechar, decimal, errors, storage_options)\u001b[0m\n\u001b[0;32m   3385\u001b[0m         )\n\u001b[0;32m   3386\u001b[0m \u001b[1;33m\u001b[0m\u001b[0m\n\u001b[1;32m-> 3387\u001b[1;33m         return DataFrameRenderer(formatter).to_csv(\n\u001b[0m\u001b[0;32m   3388\u001b[0m             \u001b[0mpath_or_buf\u001b[0m\u001b[1;33m,\u001b[0m\u001b[1;33m\u001b[0m\u001b[1;33m\u001b[0m\u001b[0m\n\u001b[0;32m   3389\u001b[0m             \u001b[0mline_terminator\u001b[0m\u001b[1;33m=\u001b[0m\u001b[0mline_terminator\u001b[0m\u001b[1;33m,\u001b[0m\u001b[1;33m\u001b[0m\u001b[1;33m\u001b[0m\u001b[0m\n",
      "\u001b[1;32m~\\anaconda3\\lib\\site-packages\\pandas\\io\\formats\\format.py\u001b[0m in \u001b[0;36mto_csv\u001b[1;34m(self, path_or_buf, encoding, sep, columns, index_label, mode, compression, quoting, quotechar, line_terminator, chunksize, date_format, doublequote, escapechar, errors, storage_options)\u001b[0m\n\u001b[0;32m   1081\u001b[0m             \u001b[0mformatter\u001b[0m\u001b[1;33m=\u001b[0m\u001b[0mself\u001b[0m\u001b[1;33m.\u001b[0m\u001b[0mfmt\u001b[0m\u001b[1;33m,\u001b[0m\u001b[1;33m\u001b[0m\u001b[1;33m\u001b[0m\u001b[0m\n\u001b[0;32m   1082\u001b[0m         )\n\u001b[1;32m-> 1083\u001b[1;33m         \u001b[0mcsv_formatter\u001b[0m\u001b[1;33m.\u001b[0m\u001b[0msave\u001b[0m\u001b[1;33m(\u001b[0m\u001b[1;33m)\u001b[0m\u001b[1;33m\u001b[0m\u001b[1;33m\u001b[0m\u001b[0m\n\u001b[0m\u001b[0;32m   1084\u001b[0m \u001b[1;33m\u001b[0m\u001b[0m\n\u001b[0;32m   1085\u001b[0m         \u001b[1;32mif\u001b[0m \u001b[0mcreated_buffer\u001b[0m\u001b[1;33m:\u001b[0m\u001b[1;33m\u001b[0m\u001b[1;33m\u001b[0m\u001b[0m\n",
      "\u001b[1;32m~\\anaconda3\\lib\\site-packages\\pandas\\io\\formats\\csvs.py\u001b[0m in \u001b[0;36msave\u001b[1;34m(self)\u001b[0m\n\u001b[0;32m    226\u001b[0m         \"\"\"\n\u001b[0;32m    227\u001b[0m         \u001b[1;31m# apply compression and byte/text conversion\u001b[0m\u001b[1;33m\u001b[0m\u001b[1;33m\u001b[0m\u001b[1;33m\u001b[0m\u001b[0m\n\u001b[1;32m--> 228\u001b[1;33m         with get_handle(\n\u001b[0m\u001b[0;32m    229\u001b[0m             \u001b[0mself\u001b[0m\u001b[1;33m.\u001b[0m\u001b[0mfilepath_or_buffer\u001b[0m\u001b[1;33m,\u001b[0m\u001b[1;33m\u001b[0m\u001b[1;33m\u001b[0m\u001b[0m\n\u001b[0;32m    230\u001b[0m             \u001b[0mself\u001b[0m\u001b[1;33m.\u001b[0m\u001b[0mmode\u001b[0m\u001b[1;33m,\u001b[0m\u001b[1;33m\u001b[0m\u001b[1;33m\u001b[0m\u001b[0m\n",
      "\u001b[1;32m~\\anaconda3\\lib\\site-packages\\pandas\\io\\common.py\u001b[0m in \u001b[0;36mget_handle\u001b[1;34m(path_or_buf, mode, encoding, compression, memory_map, is_text, errors, storage_options)\u001b[0m\n\u001b[0;32m    640\u001b[0m                 \u001b[0merrors\u001b[0m \u001b[1;33m=\u001b[0m \u001b[1;34m\"replace\"\u001b[0m\u001b[1;33m\u001b[0m\u001b[1;33m\u001b[0m\u001b[0m\n\u001b[0;32m    641\u001b[0m             \u001b[1;31m# Encoding\u001b[0m\u001b[1;33m\u001b[0m\u001b[1;33m\u001b[0m\u001b[1;33m\u001b[0m\u001b[0m\n\u001b[1;32m--> 642\u001b[1;33m             handle = open(\n\u001b[0m\u001b[0;32m    643\u001b[0m                 \u001b[0mhandle\u001b[0m\u001b[1;33m,\u001b[0m\u001b[1;33m\u001b[0m\u001b[1;33m\u001b[0m\u001b[0m\n\u001b[0;32m    644\u001b[0m                 \u001b[0mioargs\u001b[0m\u001b[1;33m.\u001b[0m\u001b[0mmode\u001b[0m\u001b[1;33m,\u001b[0m\u001b[1;33m\u001b[0m\u001b[1;33m\u001b[0m\u001b[0m\n",
      "\u001b[1;31mFileNotFoundError\u001b[0m: [Errno 2] No such file or directory: '../data/drug_use_data_cleaned.csv'"
     ]
    }
   ],
   "source": [
    "# save the data to a new csv file\n",
    "data.to_csv('drug_use_data_cleaned.csv' )"
   ]
  }
 ],
 "metadata": {
  "kernelspec": {
   "display_name": "Python 3",
   "language": "python",
   "name": "python3"
  },
  "language_info": {
   "codemirror_mode": {
    "name": "ipython",
    "version": 3
   },
   "file_extension": ".py",
   "mimetype": "text/x-python",
   "name": "python",
   "nbconvert_exporter": "python",
   "pygments_lexer": "ipython3",
   "version": "3.8.8"
  }
 },
 "nbformat": 4,
 "nbformat_minor": 5
}

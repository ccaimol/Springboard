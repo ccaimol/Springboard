{
 "cells": [
  {
   "cell_type": "code",
   "execution_count": 41,
   "id": "09c64033",
   "metadata": {},
   "outputs": [],
   "source": [
    "# Import required packages\n",
    "import pandas as pd\n",
    "import matplotlib.pyplot as plt"
   ]
  },
  {
   "cell_type": "code",
   "execution_count": 7,
   "id": "7a2f5bed",
   "metadata": {},
   "outputs": [
    {
     "data": {
      "text/html": [
       "<div>\n",
       "<style scoped>\n",
       "    .dataframe tbody tr th:only-of-type {\n",
       "        vertical-align: middle;\n",
       "    }\n",
       "\n",
       "    .dataframe tbody tr th {\n",
       "        vertical-align: top;\n",
       "    }\n",
       "\n",
       "    .dataframe thead th {\n",
       "        text-align: right;\n",
       "    }\n",
       "</style>\n",
       "<table border=\"1\" class=\"dataframe\">\n",
       "  <thead>\n",
       "    <tr style=\"text-align: right;\">\n",
       "      <th></th>\n",
       "      <th>ID</th>\n",
       "      <th>Age</th>\n",
       "      <th>Gender</th>\n",
       "      <th>Education</th>\n",
       "      <th>Country</th>\n",
       "      <th>Ethnicity</th>\n",
       "      <th>Nscore</th>\n",
       "      <th>Escore</th>\n",
       "      <th>Oscore</th>\n",
       "      <th>Ascore</th>\n",
       "      <th>...</th>\n",
       "      <th>Ecstasy</th>\n",
       "      <th>Heroin</th>\n",
       "      <th>Ketamine</th>\n",
       "      <th>Legalh</th>\n",
       "      <th>LSD</th>\n",
       "      <th>Meth</th>\n",
       "      <th>Mushrooms</th>\n",
       "      <th>Nicotine</th>\n",
       "      <th>Semer</th>\n",
       "      <th>VSA</th>\n",
       "    </tr>\n",
       "  </thead>\n",
       "  <tbody>\n",
       "    <tr>\n",
       "      <th>0</th>\n",
       "      <td>1</td>\n",
       "      <td>0.49788</td>\n",
       "      <td>0.48246</td>\n",
       "      <td>-0.05921</td>\n",
       "      <td>0.96082</td>\n",
       "      <td>0.12600</td>\n",
       "      <td>0.31287</td>\n",
       "      <td>-0.57545</td>\n",
       "      <td>-0.58331</td>\n",
       "      <td>-0.91699</td>\n",
       "      <td>...</td>\n",
       "      <td>CL0</td>\n",
       "      <td>CL0</td>\n",
       "      <td>CL0</td>\n",
       "      <td>CL0</td>\n",
       "      <td>CL0</td>\n",
       "      <td>CL0</td>\n",
       "      <td>CL0</td>\n",
       "      <td>CL2</td>\n",
       "      <td>CL0</td>\n",
       "      <td>CL0</td>\n",
       "    </tr>\n",
       "    <tr>\n",
       "      <th>1</th>\n",
       "      <td>2</td>\n",
       "      <td>-0.07854</td>\n",
       "      <td>-0.48246</td>\n",
       "      <td>1.98437</td>\n",
       "      <td>0.96082</td>\n",
       "      <td>-0.31685</td>\n",
       "      <td>-0.67825</td>\n",
       "      <td>1.93886</td>\n",
       "      <td>1.43533</td>\n",
       "      <td>0.76096</td>\n",
       "      <td>...</td>\n",
       "      <td>CL4</td>\n",
       "      <td>CL0</td>\n",
       "      <td>CL2</td>\n",
       "      <td>CL0</td>\n",
       "      <td>CL2</td>\n",
       "      <td>CL3</td>\n",
       "      <td>CL0</td>\n",
       "      <td>CL4</td>\n",
       "      <td>CL0</td>\n",
       "      <td>CL0</td>\n",
       "    </tr>\n",
       "    <tr>\n",
       "      <th>2</th>\n",
       "      <td>3</td>\n",
       "      <td>0.49788</td>\n",
       "      <td>-0.48246</td>\n",
       "      <td>-0.05921</td>\n",
       "      <td>0.96082</td>\n",
       "      <td>-0.31685</td>\n",
       "      <td>-0.46725</td>\n",
       "      <td>0.80523</td>\n",
       "      <td>-0.84732</td>\n",
       "      <td>-1.62090</td>\n",
       "      <td>...</td>\n",
       "      <td>CL0</td>\n",
       "      <td>CL0</td>\n",
       "      <td>CL0</td>\n",
       "      <td>CL0</td>\n",
       "      <td>CL0</td>\n",
       "      <td>CL0</td>\n",
       "      <td>CL1</td>\n",
       "      <td>CL0</td>\n",
       "      <td>CL0</td>\n",
       "      <td>CL0</td>\n",
       "    </tr>\n",
       "    <tr>\n",
       "      <th>3</th>\n",
       "      <td>4</td>\n",
       "      <td>-0.95197</td>\n",
       "      <td>0.48246</td>\n",
       "      <td>1.16365</td>\n",
       "      <td>0.96082</td>\n",
       "      <td>-0.31685</td>\n",
       "      <td>-0.14882</td>\n",
       "      <td>-0.80615</td>\n",
       "      <td>-0.01928</td>\n",
       "      <td>0.59042</td>\n",
       "      <td>...</td>\n",
       "      <td>CL0</td>\n",
       "      <td>CL0</td>\n",
       "      <td>CL2</td>\n",
       "      <td>CL0</td>\n",
       "      <td>CL0</td>\n",
       "      <td>CL0</td>\n",
       "      <td>CL0</td>\n",
       "      <td>CL2</td>\n",
       "      <td>CL0</td>\n",
       "      <td>CL0</td>\n",
       "    </tr>\n",
       "    <tr>\n",
       "      <th>4</th>\n",
       "      <td>5</td>\n",
       "      <td>0.49788</td>\n",
       "      <td>0.48246</td>\n",
       "      <td>1.98437</td>\n",
       "      <td>0.96082</td>\n",
       "      <td>-0.31685</td>\n",
       "      <td>0.73545</td>\n",
       "      <td>-1.63340</td>\n",
       "      <td>-0.45174</td>\n",
       "      <td>-0.30172</td>\n",
       "      <td>...</td>\n",
       "      <td>CL1</td>\n",
       "      <td>CL0</td>\n",
       "      <td>CL0</td>\n",
       "      <td>CL1</td>\n",
       "      <td>CL0</td>\n",
       "      <td>CL0</td>\n",
       "      <td>CL2</td>\n",
       "      <td>CL2</td>\n",
       "      <td>CL0</td>\n",
       "      <td>CL0</td>\n",
       "    </tr>\n",
       "  </tbody>\n",
       "</table>\n",
       "<p>5 rows × 32 columns</p>\n",
       "</div>"
      ],
      "text/plain": [
       "   ID      Age   Gender  Education  Country  Ethnicity   Nscore   Escore  \\\n",
       "0   1  0.49788  0.48246   -0.05921  0.96082    0.12600  0.31287 -0.57545   \n",
       "1   2 -0.07854 -0.48246    1.98437  0.96082   -0.31685 -0.67825  1.93886   \n",
       "2   3  0.49788 -0.48246   -0.05921  0.96082   -0.31685 -0.46725  0.80523   \n",
       "3   4 -0.95197  0.48246    1.16365  0.96082   -0.31685 -0.14882 -0.80615   \n",
       "4   5  0.49788  0.48246    1.98437  0.96082   -0.31685  0.73545 -1.63340   \n",
       "\n",
       "    Oscore   Ascore  ...  Ecstasy  Heroin  Ketamine Legalh  LSD Meth  \\\n",
       "0 -0.58331 -0.91699  ...      CL0     CL0       CL0    CL0  CL0  CL0   \n",
       "1  1.43533  0.76096  ...      CL4     CL0       CL2    CL0  CL2  CL3   \n",
       "2 -0.84732 -1.62090  ...      CL0     CL0       CL0    CL0  CL0  CL0   \n",
       "3 -0.01928  0.59042  ...      CL0     CL0       CL2    CL0  CL0  CL0   \n",
       "4 -0.45174 -0.30172  ...      CL1     CL0       CL0    CL1  CL0  CL0   \n",
       "\n",
       "  Mushrooms Nicotine Semer  VSA  \n",
       "0       CL0      CL2   CL0  CL0  \n",
       "1       CL0      CL4   CL0  CL0  \n",
       "2       CL1      CL0   CL0  CL0  \n",
       "3       CL0      CL2   CL0  CL0  \n",
       "4       CL2      CL2   CL0  CL0  \n",
       "\n",
       "[5 rows x 32 columns]"
      ]
     },
     "execution_count": 7,
     "metadata": {},
     "output_type": "execute_result"
    }
   ],
   "source": [
    "# Read given data into pandas DataFrame\n",
    "# Assign column names to attributes described in Data Description\n",
    "# https://archive.ics.uci.edu/ml/datasets/Drug+consumption+%28quantified%29#\n",
    "filename = 'drug_consumption.data'\n",
    "column_names = ['ID', 'Age', 'Gender', 'Education', 'Country', 'Ethnicity', \n",
    "                'Nscore', 'Escore', 'Oscore', 'Ascore', 'Cscore', 'Impulsive', 'SS',\n",
    "                'Alcohol', 'Amphet', 'Amyl', 'Benzos', 'Caff', 'Cannabis', 'Choc', 'Coke', 'Crack', 'Ecstasy', 'Heroin',\n",
    "                'Ketamine', 'Legalh', 'LSD', 'Meth', 'Mushrooms', 'Nicotine', 'Semer', 'VSA']\n",
    "data = pd.read_csv( filename, header=None )\n",
    "data.columns = column_names\n",
    "data.head()"
   ]
  },
  {
   "cell_type": "code",
   "execution_count": 15,
   "id": "4d107b39",
   "metadata": {},
   "outputs": [
    {
     "name": "stdout",
     "output_type": "stream",
     "text": [
      "ID           0\n",
      "Age          0\n",
      "Gender       0\n",
      "Education    0\n",
      "Country      0\n",
      "Ethnicity    0\n",
      "Nscore       0\n",
      "Escore       0\n",
      "Oscore       0\n",
      "Ascore       0\n",
      "Cscore       0\n",
      "Impulsive    0\n",
      "SS           0\n",
      "Alcohol      0\n",
      "Amphet       0\n",
      "Amyl         0\n",
      "Benzos       0\n",
      "Caff         0\n",
      "Cannabis     0\n",
      "Choc         0\n",
      "Coke         0\n",
      "Crack        0\n",
      "Ecstasy      0\n",
      "Heroin       0\n",
      "Ketamine     0\n",
      "Legalh       0\n",
      "LSD          0\n",
      "Meth         0\n",
      "Mushrooms    0\n",
      "Nicotine     0\n",
      "Semer        0\n",
      "VSA          0\n",
      "dtype: int64\n"
     ]
    }
   ],
   "source": [
    "# Count number of missing values by column\n",
    "missing_data = data.isnull().sum()\n",
    "print( missing_data )"
   ]
  },
  {
   "cell_type": "code",
   "execution_count": null,
   "id": "7f0fa75f",
   "metadata": {},
   "outputs": [],
   "source": [
    "# *** This confirms that there are no values set to null in this data set. HOWEVER, this does not eliminate \n",
    "#     the possibility of missing values in other ways ***"
   ]
  },
  {
   "cell_type": "code",
   "execution_count": 35,
   "id": "44b96407",
   "metadata": {},
   "outputs": [
    {
     "name": "stdout",
     "output_type": "stream",
     "text": [
      "2      1\n",
      "625    1\n",
      "649    1\n",
      "647    1\n",
      "645    1\n",
      "Name: ID, dtype: int64\n",
      "True\n"
     ]
    }
   ],
   "source": [
    "print( data['ID'].value_counts().head() )\n",
    "print ( data['ID'].nunique() == len( data ) )\n",
    "# *** This indicates that there are no duplicate entries as every ID is unique"
   ]
  },
  {
   "cell_type": "code",
   "execution_count": 36,
   "id": "0965b6f8",
   "metadata": {},
   "outputs": [
    {
     "name": "stdout",
     "output_type": "stream",
     "text": [
      "0        True\n",
      "1        True\n",
      "2        True\n",
      "3        True\n",
      "4        True\n",
      "        ...  \n",
      "1880    False\n",
      "1881    False\n",
      "1882    False\n",
      "1883    False\n",
      "1884    False\n",
      "Length: 1885, dtype: bool\n"
     ]
    }
   ],
   "source": [
    "print( data['ID'] == (data.index + 1))\n",
    "# *** At first glance, the participant IDs appear to be consecutively assigned. \n",
    "# *** After testing to see if each ID corresponded with index + 1, it showed that somewhere there was an inconsistency\n",
    "# *** On further inspection of the dataset, participants with data['ID'] 299 and 294 were ommitted. "
   ]
  },
  {
   "cell_type": "code",
   "execution_count": 50,
   "id": "198fdb11",
   "metadata": {},
   "outputs": [
    {
     "data": {
      "text/plain": [
       "-0.31685    1720\n",
       " 0.11440      63\n",
       "-1.10702      33\n",
       "-0.50212      26\n",
       "-0.22166      20\n",
       " 0.12600      20\n",
       " 1.90725       3\n",
       "Name: Ethnicity, dtype: int64"
      ]
     },
     "execution_count": 50,
     "metadata": {},
     "output_type": "execute_result"
    }
   ],
   "source": [
    "data['Ethnicity'].value_counts()"
   ]
  },
  {
   "cell_type": "code",
   "execution_count": 46,
   "id": "b8aed155",
   "metadata": {},
   "outputs": [
    {
     "data": {
      "text/plain": [
       "<AxesSubplot:xlabel='Country', ylabel='Ethnicity'>"
      ]
     },
     "execution_count": 46,
     "metadata": {},
     "output_type": "execute_result"
    },
    {
     "data": {
      "image/png": "[encoded data removed]",
      "text/plain": [
       "<Figure size 432x288 with 1 Axes>"
      ]
     },
     "metadata": {
      "needs_background": "light"
     },
     "output_type": "display_data"
    }
   ],
   "source": [
    "data.plot( x='Country', y='Ethnicity', kind='scatter')\n",
    "# *** While the countries of interest generally have similar ethnic makeup, it becomes clear that there are outliers.\n",
    "# *** The ethnicity value of 1.90725 (Mixed-Black/Asian), is only found in countries with values of -0.57009 and -0.28519 \n",
    "#     (USA and Other, repectively).\n",
    "# *** The countries with values of -0.46841,-0.09765, and 0.21128 (New Zealand, Australia, and Republic of Ireland) \n",
    "#     have significantly fewer ethnic groups. Participants from these countries mainly had an ethnic value of -0.31685 (White).\n",
    "# *** Meanwhile, the ethnicity value of -1.10702 (Black) is only found in countries -0.57009, -0.28519,and 0.96082\n",
    "#     (USA, Other, and UK, repectively)\n",
    "# *** Overall, while it is unclear to which countries the 'Other' category encompasses, the data is skewed in that it has\n",
    "#     majority White participants because most of the participants reside in countries with a predominantly White population.\n",
    "#     Despite this skew and the outliers, there is no reason to modify any of this data."
   ]
  },
  {
   "cell_type": "code",
   "execution_count": 48,
   "id": "f92d2497",
   "metadata": {},
   "outputs": [
    {
     "data": {
      "text/plain": [
       "-0.61113    506\n",
       " 0.45468    480\n",
       " 1.16365    283\n",
       "-0.05921    270\n",
       "-1.22751    100\n",
       "-1.73790     99\n",
       " 1.98437     89\n",
       "-1.43719     30\n",
       "-2.43591     28\n",
       "Name: Education, dtype: int64"
      ]
     },
     "execution_count": 48,
     "metadata": {},
     "output_type": "execute_result"
    }
   ],
   "source": [
    "data['Education'].value_counts()"
   ]
  },
  {
   "cell_type": "code",
   "execution_count": 49,
   "id": "7328ed35",
   "metadata": {},
   "outputs": [
    {
     "data": {
      "text/plain": [
       "-0.95197    643\n",
       "-0.07854    481\n",
       " 0.49788    356\n",
       " 1.09449    294\n",
       " 1.82213     93\n",
       " 2.59171     18\n",
       "Name: Age, dtype: int64"
      ]
     },
     "execution_count": 49,
     "metadata": {},
     "output_type": "execute_result"
    }
   ],
   "source": [
    "data['Age'].value_counts()"
   ]
  },
  {
   "cell_type": "code",
   "execution_count": 47,
   "id": "40d207db",
   "metadata": {},
   "outputs": [
    {
     "data": {
      "text/plain": [
       "<AxesSubplot:xlabel='Age', ylabel='Education'>"
      ]
     },
     "execution_count": 47,
     "metadata": {},
     "output_type": "execute_result"
    },
    {
     "data": {
      "image/png": "[encoded data removed]",
      "text/plain": [
       "<Figure size 432x288 with 1 Axes>"
      ]
     },
     "metadata": {
      "needs_background": "light"
     },
     "output_type": "display_data"
    }
   ],
   "source": [
    "data.plot( x='Age', y='Education', kind='scatter')"
   ]
  }
 ],
 "metadata": {
  "kernelspec": {
   "display_name": "Python 3",
   "language": "python",
   "name": "python3"
  },
  "language_info": {
   "codemirror_mode": {
    "name": "ipython",
    "version": 3
   },
   "file_extension": ".py",
   "mimetype": "text/x-python",
   "name": "python",
   "nbconvert_exporter": "python",
   "pygments_lexer": "ipython3",
   "version": "3.8.8"
  }
 },
 "nbformat": 4,
 "nbformat_minor": 5
}
